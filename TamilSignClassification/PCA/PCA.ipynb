{
 "cells": [
  {
   "cell_type": "markdown",
   "metadata": {},
   "source": [
    "# PCA for Angles"
   ]
  },
  {
   "cell_type": "code",
   "execution_count": null,
   "metadata": {},
   "outputs": [],
   "source": [
    "from sklearn.decomposition import PCA\n",
    "import pandas as pd\n",
    "\n",
    "# Function to apply PCA and keep the desired number of components\n",
    "def apply_pca(file_path, n_components=16):\n",
    "    # Read the scaled CSV file\n",
    "    df = pd.read_csv(file_path)\n",
    "    \n",
    "    # Separate the features and target column\n",
    "    X = df.drop(columns=['target'])\n",
    "    y = df['target']\n",
    "    \n",
    "    # Initialize PCA with the number of components you want (e.g., 16)\n",
    "    pca = PCA(n_components=n_components)\n",
    "    \n",
    "    # Apply PCA to the features\n",
    "    X_pca = pca.fit_transform(X)\n",
    "    \n",
    "    # Create a DataFrame for the transformed features\n",
    "    pca_df = pd.DataFrame(X_pca, columns=[f\"Principal Component {i+1}\" for i in range(n_components)])\n",
    "    pca_df['target'] = y\n",
    "    \n",
    "    # Save the PCA transformed data to a new CSV file\n",
    "    pca_df.to_csv(\"PCA.csv\", index=False)\n",
    "    \n",
    "    # Return the PCA components and explained variance ratio for analysis\n",
    "    return pca, pca_df\n",
    "\n",
    "# Example usage\n",
    "scaled_csv_path = \"scaled_hand_angles.csv\"\n",
    "pca, pca_df = apply_pca(scaled_csv_path, n_components=16)\n",
    "\n",
    "# Explained Variance Ratio in the required format\n",
    "explained_variance_ratio = pca.explained_variance_ratio_\n",
    "\n",
    "print(\"Explained Variance Ratio for each component:\")\n",
    "for i, variance in enumerate(explained_variance_ratio):\n",
    "    print(f\"Component {i + 1}: {variance:.4f} ({variance * 100:.2f}%)\")\n"
   ]
  }
 ],
 "metadata": {
  "kernelspec": {
   "display_name": "Python 3",
   "language": "python",
   "name": "python3"
  },
  "language_info": {
   "name": "python",
   "version": "3.12.1"
  }
 },
 "nbformat": 4,
 "nbformat_minor": 2
}
