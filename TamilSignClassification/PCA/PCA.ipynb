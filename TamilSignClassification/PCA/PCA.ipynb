{
 "cells": [
  {
   "cell_type": "markdown",
   "metadata": {},
   "source": [
    "# PCA for Angles"
   ]
  },
  {
   "cell_type": "code",
   "execution_count": 1,
   "metadata": {},
   "outputs": [
    {
     "name": "stdout",
     "output_type": "stream",
     "text": [
      "Explained Variance Ratio for each component:\n",
      "Component 1: 0.5483 (54.83%)\n",
      "Component 2: 0.1444 (14.44%)\n",
      "Component 3: 0.0900 (9.00%)\n",
      "Component 4: 0.0594 (5.94%)\n",
      "Component 5: 0.0432 (4.32%)\n",
      "Component 6: 0.0338 (3.38%)\n",
      "Component 7: 0.0225 (2.25%)\n"
     ]
    }
   ],
   "source": [
    "from sklearn.decomposition import PCA\n",
    "import pandas as pd\n",
    "\n",
    "file_path = 'scaled_hand_angles.csv'\n",
    "data = pd.read_csv(file_path)\n",
    "\n",
    "# Function to apply PCA and keep the desired number of components\n",
    "def apply_pca(file_path, n_components=7):\n",
    "    # Read the scaled CSV file\n",
    "    df = pd.read_csv(file_path)\n",
    "    \n",
    "    # Separate the features and target column\n",
    "    X = df.drop(columns=['target'])\n",
    "    y = df['target']\n",
    "    \n",
    "    # Initialize PCA with the number of components you want (e.g., 16)\n",
    "    pca = PCA(n_components=n_components)\n",
    "    \n",
    "    # Apply PCA to the features\n",
    "    X_pca = pca.fit_transform(X)\n",
    "    \n",
    "    # Create a DataFrame for the transformed features\n",
    "    pca_df = pd.DataFrame(X_pca, columns=[f\"Principal Component {i+1}\" for i in range(n_components)])\n",
    "    pca_df['target'] = y\n",
    "    \n",
    "    # Save the PCA transformed data to a new CSV file\n",
    "    pca_df.to_csv(\"PCA.csv\", index=False)\n",
    "    \n",
    "    # Return the PCA components and explained variance ratio for analysis\n",
    "    return pca, pca_df\n",
    "\n",
    "# Example usage\n",
    "scaled_csv_path = \"scaled_hand_angles.csv\"\n",
    "pca, pca_df = apply_pca(scaled_csv_path, n_components=7)\n",
    "\n",
    "# Explained Variance Ratio in the required format\n",
    "explained_variance_ratio = pca.explained_variance_ratio_\n",
    "\n",
    "print(\"Explained Variance Ratio for each component:\")\n",
    "for i, variance in enumerate(explained_variance_ratio):\n",
    "    print(f\"Component {i + 1}: {variance:.4f} ({variance * 100:.2f}%)\")\n"
   ]
  }
 ],
 "metadata": {
  "kernelspec": {
   "display_name": "Python 3",
   "language": "python",
   "name": "python3"
  },
  "language_info": {
   "codemirror_mode": {
    "name": "ipython",
    "version": 3
   },
   "file_extension": ".py",
   "mimetype": "text/x-python",
   "name": "python",
   "nbconvert_exporter": "python",
   "pygments_lexer": "ipython3",
   "version": "3.12.1"
  }
 },
 "nbformat": 4,
 "nbformat_minor": 2
}
