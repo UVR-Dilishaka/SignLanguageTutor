{
 "cells": [
  {
   "cell_type": "code",
   "execution_count": 1,
   "metadata": {},
   "outputs": [
    {
     "name": "stderr",
     "output_type": "stream",
     "text": [
      "<>:10: SyntaxWarning: invalid escape sequence '\\F'\n",
      "<>:10: SyntaxWarning: invalid escape sequence '\\F'\n",
      "C:\\Users\\hp\\AppData\\Local\\Temp\\ipykernel_17392\\487369204.py:10: SyntaxWarning: invalid escape sequence '\\F'\n",
      "  data_base_path = 'Dataset\\Five'\n",
      "C:\\Users\\hp\\AppData\\Local\\Temp\\ipykernel_17392\\487369204.py:10: SyntaxWarning: invalid escape sequence '\\F'\n",
      "  data_base_path = 'Dataset\\Five'\n"
     ]
    },
    {
     "ename": "FileNotFoundError",
     "evalue": "[WinError 3] The system cannot find the path specified: 'Dataset\\\\Five'",
     "output_type": "error",
     "traceback": [
      "\u001b[1;31m---------------------------------------------------------------------------\u001b[0m",
      "\u001b[1;31mFileNotFoundError\u001b[0m                         Traceback (most recent call last)",
      "Cell \u001b[1;32mIn[1], line 14\u001b[0m\n\u001b[0;32m     10\u001b[0m data_base_path \u001b[38;5;241m=\u001b[39m \u001b[38;5;124m'\u001b[39m\u001b[38;5;124mDataset\u001b[39m\u001b[38;5;124m\\\u001b[39m\u001b[38;5;124mFive\u001b[39m\u001b[38;5;124m'\u001b[39m\n\u001b[0;32m     13\u001b[0m \u001b[38;5;66;03m# Get all image paths in the dataset folder\u001b[39;00m\n\u001b[1;32m---> 14\u001b[0m your_dataset_paths \u001b[38;5;241m=\u001b[39m [os\u001b[38;5;241m.\u001b[39mpath\u001b[38;5;241m.\u001b[39mjoin(data_base_path, file) \u001b[38;5;28;01mfor\u001b[39;00m file \u001b[38;5;129;01min\u001b[39;00m \u001b[43mos\u001b[49m\u001b[38;5;241;43m.\u001b[39;49m\u001b[43mlistdir\u001b[49m\u001b[43m(\u001b[49m\u001b[43mdata_base_path\u001b[49m\u001b[43m)\u001b[49m \u001b[38;5;28;01mif\u001b[39;00m file\u001b[38;5;241m.\u001b[39mendswith((\u001b[38;5;124m'\u001b[39m\u001b[38;5;124m.png\u001b[39m\u001b[38;5;124m'\u001b[39m, \u001b[38;5;124m'\u001b[39m\u001b[38;5;124m.jpg\u001b[39m\u001b[38;5;124m'\u001b[39m, \u001b[38;5;124m'\u001b[39m\u001b[38;5;124m.jpeg\u001b[39m\u001b[38;5;124m'\u001b[39m))]\n\u001b[0;32m     16\u001b[0m \u001b[38;5;66;03m# Print all image paths for debugging\u001b[39;00m\n\u001b[0;32m     17\u001b[0m \u001b[38;5;66;03m#print(\"Image Paths:\", your_dataset_paths)\u001b[39;00m\n\u001b[0;32m     18\u001b[0m \n\u001b[0;32m     19\u001b[0m \u001b[38;5;66;03m# Open a CSV file to save the landmarks\u001b[39;00m\n\u001b[0;32m     20\u001b[0m \u001b[38;5;28;01mwith\u001b[39;00m \u001b[38;5;28mopen\u001b[39m(\u001b[38;5;124m\"\u001b[39m\u001b[38;5;124mlandmarks_5.csv\u001b[39m\u001b[38;5;124m\"\u001b[39m, \u001b[38;5;124m\"\u001b[39m\u001b[38;5;124mw\u001b[39m\u001b[38;5;124m\"\u001b[39m, newline\u001b[38;5;241m=\u001b[39m\u001b[38;5;124m\"\u001b[39m\u001b[38;5;124m\"\u001b[39m) \u001b[38;5;28;01mas\u001b[39;00m file:\n",
      "\u001b[1;31mFileNotFoundError\u001b[0m: [WinError 3] The system cannot find the path specified: 'Dataset\\\\Five'"
     ]
    }
   ],
   "source": [
    "import cv2\n",
    "import os\n",
    "import csv\n",
    "import mediapipe as mp\n",
    "\n",
    "# Initialize MediaPipe Hands\n",
    "mp_hands = mp.solutions.hands\n",
    "hands = mp_hands.Hands(static_image_mode=True, max_num_hands=1, min_detection_confidence=0.3)\n",
    "\n",
    "data_base_path = 'Dataset\\Five'\n",
    "\n",
    "\n",
    "# Get all image paths in the dataset folder\n",
    "your_dataset_paths = [os.path.join(data_base_path, file) for file in os.listdir(data_base_path) if file.endswith(('.png', '.jpg', '.jpeg'))]\n",
    "\n",
    "# Print all image paths for debugging\n",
    "#print(\"Image Paths:\", your_dataset_paths)\n",
    "\n",
    "# Open a CSV file to save the landmarks\n",
    "with open(\"landmarks_5.csv\", \"w\", newline=\"\") as file:\n",
    "    writer = csv.writer(file)\n",
    "\n",
    "    # Define the header\n",
    "    header = [\"Image Path\"]\n",
    "    # Append \"x\", \"y\", \"z\" for each of the 21 landmarks\n",
    "    for i in range(21):  # MediaPipe Hands has 21 landmarks\n",
    "        header.extend([f\"x_{i+1}\", f\"y_{i+1}\", f\"z_{i+1}\"])\n",
    "    writer.writerow(header)\n",
    "\n",
    "    # Process each image and write landmarks to the CSV\n",
    "    for image_path in your_dataset_paths:\n",
    "        image = cv2.imread(image_path)\n",
    "\n",
    "        # Check if the image is read correctly\n",
    "        if image is None:\n",
    "            print(f\"Failed to read image: {image_path}\")\n",
    "            continue  # Skip this image if it couldn't be read\n",
    "\n",
    "        print(f\"Processing image: {image_path}, shape: {image.shape}\")\n",
    "        image_rgb = cv2.cvtColor(image, cv2.COLOR_BGR2RGB)\n",
    "        result = hands.process(image_rgb)\n",
    "\n",
    "        # Start with the image path\n",
    "        landmarks = [image_path]\n",
    "\n",
    "        if result.multi_hand_landmarks:\n",
    "            hand_landmarks = result.multi_hand_landmarks[0]\n",
    "            # Collect (x, y, z) for each landmark\n",
    "            for lm in hand_landmarks.landmark:\n",
    "                landmarks.extend([lm.x, lm.y, lm.z])\n",
    "            print(f\"Processed: {image_path}, Landmarks detected\")\n",
    "        else:\n",
    "            # If no landmarks detected, fill with None\n",
    "            landmarks.extend([None] * (3 * 21))  # 21 landmarks with (x, y, z)\n",
    "            print(f\"Processed: {image_path}, No landmarks detected\")\n",
    "\n",
    "        # Write the complete landmarks list for the current image to the CSV\n",
    "        writer.writerow(landmarks)\n",
    "\n",
    "print(\"Landmarks have been saved to landmarks.csv\")\n"
   ]
  }
 ],
 "metadata": {
  "kernelspec": {
   "display_name": "Python 3",
   "language": "python",
   "name": "python3"
  },
  "language_info": {
   "codemirror_mode": {
    "name": "ipython",
    "version": 3
   },
   "file_extension": ".py",
   "mimetype": "text/x-python",
   "name": "python",
   "nbconvert_exporter": "python",
   "pygments_lexer": "ipython3",
   "version": "3.12.1"
  }
 },
 "nbformat": 4,
 "nbformat_minor": 2
}
