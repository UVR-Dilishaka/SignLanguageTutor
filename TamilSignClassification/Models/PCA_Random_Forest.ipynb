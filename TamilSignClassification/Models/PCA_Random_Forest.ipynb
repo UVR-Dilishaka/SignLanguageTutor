{
 "cells": [
  {
   "cell_type": "code",
   "execution_count": 2,
   "metadata": {},
   "outputs": [
    {
     "name": "stdout",
     "output_type": "stream",
     "text": [
      "Random Forest Accuracy: 65.62%\n",
      "Classification Report:\n",
      "              precision    recall  f1-score   support\n",
      "\n",
      "           1       0.73      0.79      0.76       151\n",
      "           2       0.70      0.75      0.73       161\n",
      "           3       0.61      0.69      0.65       140\n",
      "           4       0.65      0.62      0.63       131\n",
      "           5       0.59      0.51      0.55       150\n",
      "           6       0.57      0.81      0.67       118\n",
      "           7       0.65      0.62      0.63       151\n",
      "           8       0.64      0.58      0.61       140\n",
      "           9       0.64      0.64      0.64       153\n",
      "          10       0.68      0.61      0.64       160\n",
      "          11       0.65      0.61      0.63       151\n",
      "          12       0.76      0.67      0.71       148\n",
      "\n",
      "    accuracy                           0.66      1754\n",
      "   macro avg       0.66      0.66      0.65      1754\n",
      "weighted avg       0.66      0.66      0.65      1754\n",
      "\n"
     ]
    }
   ],
   "source": [
    "import pandas as pd\n",
    "import pickle\n",
    "from sklearn.model_selection import train_test_split\n",
    "from sklearn.ensemble import RandomForestClassifier\n",
    "from sklearn.metrics import accuracy_score, classification_report\n",
    "\n",
    "# Load PCA results\n",
    "pca_data = pd.read_csv('PCA.csv')\n",
    "\n",
    "# Separate features and labels\n",
    "features = pca_data.drop(columns=['target'])  # Adjust column name if needed\n",
    "labels = pca_data['target']\n",
    "\n",
    "# Split the data into training and testing sets\n",
    "X_train, X_test, y_train, y_test = train_test_split(features, labels, test_size=0.2, random_state=42)\n",
    "\n",
    "# Train the Random Forest model\n",
    "rf = RandomForestClassifier(n_estimators=100, random_state=42)\n",
    "rf.fit(X_train, y_train)\n",
    "\n",
    "# Predict on test set\n",
    "rf_predictions = rf.predict(X_test)\n",
    "\n",
    "# Evaluate the model\n",
    "rf_accuracy = accuracy_score(y_test, rf_predictions)\n",
    "print(f\"Random Forest Accuracy: {rf_accuracy * 100:.2f}%\")\n",
    "print(\"Classification Report:\")\n",
    "print(classification_report(y_test, rf_predictions))\n"
   ]
  }
 ],
 "metadata": {
  "kernelspec": {
   "display_name": "Python 3",
   "language": "python",
   "name": "python3"
  },
  "language_info": {
   "codemirror_mode": {
    "name": "ipython",
    "version": 3
   },
   "file_extension": ".py",
   "mimetype": "text/x-python",
   "name": "python",
   "nbconvert_exporter": "python",
   "pygments_lexer": "ipython3",
   "version": "3.12.1"
  }
 },
 "nbformat": 4,
 "nbformat_minor": 2
}
