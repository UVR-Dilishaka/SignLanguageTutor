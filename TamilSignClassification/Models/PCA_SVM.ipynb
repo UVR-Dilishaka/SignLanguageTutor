{
 "cells": [
  {
   "cell_type": "code",
   "execution_count": 2,
   "metadata": {},
   "outputs": [
    {
     "name": "stdout",
     "output_type": "stream",
     "text": [
      "Training set size: (7012, 16)\n",
      "Testing set size: (1754, 16)\n",
      "SVM model trained successfully.\n",
      "Predictions made on the test set.\n",
      "SVM Accuracy: 11.17%\n",
      "Classification Report:\n",
      "              precision    recall  f1-score   support\n",
      "\n",
      "           1       0.13      0.18      0.15       151\n",
      "           2       0.12      0.19      0.15       161\n",
      "           3       0.10      0.08      0.09       140\n",
      "           4       0.04      0.03      0.04       131\n",
      "           5       0.10      0.01      0.01       150\n",
      "           6       0.11      0.29      0.16       118\n",
      "           7       0.08      0.03      0.04       151\n",
      "           8       0.13      0.16      0.15       140\n",
      "           9       0.08      0.10      0.09       153\n",
      "          10       0.16      0.14      0.15       160\n",
      "          11       0.13      0.15      0.14       151\n",
      "          12       0.00      0.00      0.00       148\n",
      "\n",
      "    accuracy                           0.11      1754\n",
      "   macro avg       0.10      0.11      0.10      1754\n",
      "weighted avg       0.10      0.11      0.10      1754\n",
      "\n"
     ]
    }
   ],
   "source": [
    "import pandas as pd\n",
    "import pickle\n",
    "from sklearn.model_selection import train_test_split\n",
    "from sklearn.svm import SVC\n",
    "from sklearn.metrics import accuracy_score, classification_report\n",
    "\n",
    "\n",
    "\n",
    "# Load PCA results\n",
    "pca_data = pd.read_csv('PCA.csv')\n",
    "\n",
    "# Separate features and labels\n",
    "features = pca_data.drop(columns=['target'])  # Adjust column name if needed\n",
    "labels = pca_data['target']\n",
    "\n",
    "\n",
    "# Split the data into training and testing sets\n",
    "X_train, X_test, y_train, y_test = train_test_split(features, labels, test_size=0.2, random_state=42)\n",
    "print(f\"Training set size: {X_train.shape}\")\n",
    "print(f\"Testing set size: {X_test.shape}\")\n",
    "\n",
    "\n",
    "# Train the SVM model\n",
    "svm = SVC(kernel='linear', random_state=42)  # You can change kernel to 'rbf', 'poly', etc.\n",
    "svm.fit(X_train, y_train)\n",
    "print(\"SVM model trained successfully.\")\n",
    "\n",
    "# Predict on test set\n",
    "svm_predictions = svm.predict(X_test)\n",
    "print(\"Predictions made on the test set.\")\n",
    "\n",
    "# Evaluate the model\n",
    "svm_accuracy = accuracy_score(y_test, svm_predictions)\n",
    "print(f\"SVM Accuracy: {svm_accuracy * 100:.2f}%\")\n",
    "print(\"Classification Report:\")\n",
    "print(classification_report(y_test, svm_predictions))"
   ]
  }
 ],
 "metadata": {
  "kernelspec": {
   "display_name": "Python 3",
   "language": "python",
   "name": "python3"
  },
  "language_info": {
   "codemirror_mode": {
    "name": "ipython",
    "version": 3
   },
   "file_extension": ".py",
   "mimetype": "text/x-python",
   "name": "python",
   "nbconvert_exporter": "python",
   "pygments_lexer": "ipython3",
   "version": "3.12.1"
  }
 },
 "nbformat": 4,
 "nbformat_minor": 2
}
