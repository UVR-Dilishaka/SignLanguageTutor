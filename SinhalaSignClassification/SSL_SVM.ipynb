{
  "nbformat": 4,
  "nbformat_minor": 0,
  "metadata": {
    "colab": {
      "provenance": []
    },
    "kernelspec": {
      "name": "python3",
      "display_name": "Python 3"
    },
    "language_info": {
      "name": "python"
    }
  },
  "cells": [
    {
      "cell_type": "code",
      "execution_count": 15,
      "metadata": {
        "id": "LZPTscmtnpiP"
      },
      "outputs": [],
      "source": [
        "# Import necessary libraries\n",
        "import pandas as pd\n",
        "import numpy as np\n",
        "from sklearn.svm import SVC\n",
        "from sklearn.model_selection import train_test_split\n",
        "from sklearn.metrics import accuracy_score, classification_report, confusion_matrix\n",
        "import matplotlib.pyplot as plt\n",
        "import seaborn as sns"
      ]
    },
    {
      "cell_type": "code",
      "source": [
        "# Step 1: Load the dataset\n",
        "file_path = '/content/PCA_results.8.csv'  # Replace with the path to your dataset\n",
        "data = pd.read_csv(file_path)"
      ],
      "metadata": {
        "id": "NEVZVu-Wwu1_"
      },
      "execution_count": 16,
      "outputs": []
    },
    {
      "cell_type": "code",
      "source": [
        "# Step 2: Display the first few rows of the dataset\n",
        "print(\"First few rows of the dataset:\")\n",
        "print(data.head())"
      ],
      "metadata": {
        "colab": {
          "base_uri": "https://localhost:8080/"
        },
        "id": "rlo_neaZw_Mx",
        "outputId": "e68406d5-10d7-442e-e73f-b12871f5aa47"
      },
      "execution_count": 17,
      "outputs": [
        {
          "output_type": "stream",
          "name": "stdout",
          "text": [
            "First few rows of the dataset:\n",
            "        PC1       PC2       PC3       PC4       PC5       PC6       PC7  \\\n",
            "0  3.274355 -0.096344  1.083427 -0.779993  0.733224  0.499635 -1.212490   \n",
            "1  3.097952 -0.523544  1.495265 -0.142860  0.683907 -0.164014 -0.978976   \n",
            "2  3.470452 -0.318442  1.639695 -0.478387  0.878706  0.271496 -0.161314   \n",
            "3  3.197982 -0.301340  1.534107 -0.769627  0.886398  0.445042 -0.595537   \n",
            "4  2.916098  0.137352  1.541440 -1.324139  0.369705  0.771748 -1.421975   \n",
            "\n",
            "        PC8  label  \n",
            "0  0.127588      1  \n",
            "1  0.292278      1  \n",
            "2  0.013030      1  \n",
            "3  0.384700      1  \n",
            "4  0.418969      1  \n"
          ]
        }
      ]
    },
    {
      "cell_type": "code",
      "source": [
        "# Step 3: Check for missing values\n",
        "if data.isnull().sum().sum() > 0:\n",
        "    print(\"Missing values detected. Filling with mean values...\")\n",
        "    data.fillna(data.mean(), inplace=True)\n",
        "else:\n",
        "    print(\"No missing values detected.\")\n",
        "\n",
        "# Step 4: Separate features and labels\n",
        "if 'label' in data.columns:\n",
        "    features = data.drop(columns=['label'])  # Dropping the label column\n",
        "    labels = data['label']\n",
        "    print(\"Features and labels separated successfully.\")\n",
        "else:\n",
        "    raise KeyError(\"'label' column not found in the dataset. Please ensure the dataset contains a 'label' column.\")"
      ],
      "metadata": {
        "colab": {
          "base_uri": "https://localhost:8080/"
        },
        "id": "m_n_3-DtxCaA",
        "outputId": "9dc3626c-897f-4a6c-f90c-a3b9c2f2cb36"
      },
      "execution_count": 18,
      "outputs": [
        {
          "output_type": "stream",
          "name": "stdout",
          "text": [
            "No missing values detected.\n",
            "Features and labels separated successfully.\n"
          ]
        }
      ]
    },
    {
      "cell_type": "code",
      "source": [
        "# Step 5: Split the dataset into training and testing sets\n",
        "X_train, X_test, y_train, y_test = train_test_split(features, labels, test_size=0.2, random_state=42)\n",
        "print(f\"Training set size: {X_train.shape}\")\n",
        "print(f\"Testing set size: {X_test.shape}\")"
      ],
      "metadata": {
        "colab": {
          "base_uri": "https://localhost:8080/"
        },
        "id": "UVwuHwhXxPb2",
        "outputId": "313a882a-ab21-4ed4-970d-23d784225b38"
      },
      "execution_count": 19,
      "outputs": [
        {
          "output_type": "stream",
          "name": "stdout",
          "text": [
            "Training set size: (140, 8)\n",
            "Testing set size: (35, 8)\n"
          ]
        }
      ]
    },
    {
      "cell_type": "code",
      "source": [
        "# Step 6: Initialize the SVM model\n",
        "kernel_type = 'rbf'  # Options: 'linear', 'poly', 'rbf', 'sigmoid'\n",
        "svm_model = SVC(kernel=kernel_type, random_state=42)\n",
        "print(f\"Initialized SVM with '{kernel_type}' kernel.\")"
      ],
      "metadata": {
        "colab": {
          "base_uri": "https://localhost:8080/"
        },
        "id": "_QHbcNnPxTKz",
        "outputId": "e5812503-4e27-401e-ce6c-87e1bb609e9b"
      },
      "execution_count": 20,
      "outputs": [
        {
          "output_type": "stream",
          "name": "stdout",
          "text": [
            "Initialized SVM with 'rbf' kernel.\n"
          ]
        }
      ]
    },
    {
      "cell_type": "code",
      "source": [
        "# Step 7: Train the SVM model\n",
        "svm_model.fit(X_train, y_train)\n",
        "print(\"SVM model trained successfully.\")"
      ],
      "metadata": {
        "colab": {
          "base_uri": "https://localhost:8080/"
        },
        "id": "2pFG1F4AxXkQ",
        "outputId": "195d5167-279e-4644-c609-7b4a8cdbde43"
      },
      "execution_count": 21,
      "outputs": [
        {
          "output_type": "stream",
          "name": "stdout",
          "text": [
            "SVM model trained successfully.\n"
          ]
        }
      ]
    },
    {
      "cell_type": "code",
      "source": [
        "# Step 8: Make predictions on the test set\n",
        "y_pred = svm_model.predict(X_test)\n",
        "print(\"Predictions made on the test set.\")"
      ],
      "metadata": {
        "colab": {
          "base_uri": "https://localhost:8080/"
        },
        "id": "UiYrpYDBxeRH",
        "outputId": "474e050a-c07e-4c66-9503-2a07dee71000"
      },
      "execution_count": 22,
      "outputs": [
        {
          "output_type": "stream",
          "name": "stdout",
          "text": [
            "Predictions made on the test set.\n"
          ]
        }
      ]
    },
    {
      "cell_type": "code",
      "source": [
        "# Step 9: Evaluate the SVM model\n",
        "accuracy = accuracy_score(y_test, y_pred)\n",
        "print(f\"\\nSVM Model Accuracy: {accuracy:.2f}\")"
      ],
      "metadata": {
        "colab": {
          "base_uri": "https://localhost:8080/"
        },
        "id": "THPlOMScySvU",
        "outputId": "a5366457-d1c1-4ac4-b197-45d3c35e516c"
      },
      "execution_count": 23,
      "outputs": [
        {
          "output_type": "stream",
          "name": "stdout",
          "text": [
            "\n",
            "SVM Model Accuracy: 0.74\n"
          ]
        }
      ]
    },
    {
      "cell_type": "code",
      "source": [
        "# Step 10: Display the classification report\n",
        "print(\"\\nClassification Report for SVM:\")\n",
        "print(classification_report(y_test, y_pred))"
      ],
      "metadata": {
        "colab": {
          "base_uri": "https://localhost:8080/"
        },
        "id": "68csMw7_zLG6",
        "outputId": "0ecd1934-b4b9-4b1c-a726-56fe4e969ca3"
      },
      "execution_count": 24,
      "outputs": [
        {
          "output_type": "stream",
          "name": "stdout",
          "text": [
            "\n",
            "Classification Report for SVM:\n",
            "              precision    recall  f1-score   support\n",
            "\n",
            "           2       1.00      0.50      0.67         2\n",
            "           3       0.80      1.00      0.89         8\n",
            "           4       0.67      1.00      0.80         2\n",
            "           5       1.00      0.33      0.50         3\n",
            "           6       1.00      0.50      0.67         2\n",
            "           7       1.00      1.00      1.00         2\n",
            "           8       0.50      1.00      0.67         1\n",
            "           9       0.00      0.00      0.00         0\n",
            "          10       0.00      0.00      0.00         1\n",
            "          11       0.00      0.00      0.00         3\n",
            "          12       0.33      1.00      0.50         1\n",
            "          13       1.00      0.67      0.80         3\n",
            "          14       1.00      1.00      1.00         2\n",
            "          15       1.00      1.00      1.00         2\n",
            "          16       0.50      1.00      0.67         2\n",
            "          18       1.00      1.00      1.00         1\n",
            "\n",
            "    accuracy                           0.74        35\n",
            "   macro avg       0.68      0.69      0.63        35\n",
            "weighted avg       0.76      0.74      0.71        35\n",
            "\n"
          ]
        },
        {
          "output_type": "stream",
          "name": "stderr",
          "text": [
            "/usr/local/lib/python3.10/dist-packages/sklearn/metrics/_classification.py:1531: UndefinedMetricWarning: Precision is ill-defined and being set to 0.0 in labels with no predicted samples. Use `zero_division` parameter to control this behavior.\n",
            "  _warn_prf(average, modifier, f\"{metric.capitalize()} is\", len(result))\n",
            "/usr/local/lib/python3.10/dist-packages/sklearn/metrics/_classification.py:1531: UndefinedMetricWarning: Recall is ill-defined and being set to 0.0 in labels with no true samples. Use `zero_division` parameter to control this behavior.\n",
            "  _warn_prf(average, modifier, f\"{metric.capitalize()} is\", len(result))\n",
            "/usr/local/lib/python3.10/dist-packages/sklearn/metrics/_classification.py:1531: UndefinedMetricWarning: Precision is ill-defined and being set to 0.0 in labels with no predicted samples. Use `zero_division` parameter to control this behavior.\n",
            "  _warn_prf(average, modifier, f\"{metric.capitalize()} is\", len(result))\n",
            "/usr/local/lib/python3.10/dist-packages/sklearn/metrics/_classification.py:1531: UndefinedMetricWarning: Recall is ill-defined and being set to 0.0 in labels with no true samples. Use `zero_division` parameter to control this behavior.\n",
            "  _warn_prf(average, modifier, f\"{metric.capitalize()} is\", len(result))\n",
            "/usr/local/lib/python3.10/dist-packages/sklearn/metrics/_classification.py:1531: UndefinedMetricWarning: Precision is ill-defined and being set to 0.0 in labels with no predicted samples. Use `zero_division` parameter to control this behavior.\n",
            "  _warn_prf(average, modifier, f\"{metric.capitalize()} is\", len(result))\n",
            "/usr/local/lib/python3.10/dist-packages/sklearn/metrics/_classification.py:1531: UndefinedMetricWarning: Recall is ill-defined and being set to 0.0 in labels with no true samples. Use `zero_division` parameter to control this behavior.\n",
            "  _warn_prf(average, modifier, f\"{metric.capitalize()} is\", len(result))\n"
          ]
        }
      ]
    },
    {
      "cell_type": "code",
      "source": [
        "# Step 11: Plot the confusion matrix\n",
        "conf_matrix = confusion_matrix(y_test, y_pred)\n",
        "plt.figure(figsize=(8, 6))\n",
        "sns.heatmap(conf_matrix, annot=True, fmt='d', cmap='Blues', cbar=False)\n",
        "plt.title(\"Confusion Matrix for SVM\")\n",
        "plt.xlabel(\"Predicted\")\n",
        "plt.ylabel(\"Actual\")\n",
        "plt.show()"
      ],
      "metadata": {
        "colab": {
          "base_uri": "https://localhost:8080/",
          "height": 564
        },
        "id": "BM1tpXc0zPrH",
        "outputId": "bbcaf8f4-57ae-4ba2-a0d2-6ab6fa1ae304"
      },
      "execution_count": 25,
      "outputs": [
        {
          "output_type": "display_data",
          "data": {
            "text/plain": [
              "<Figure size 800x600 with 1 Axes>"
            ],
            "image/png": "[encoded data removed]"
          },
          "metadata": {}
        }
      ]
    },
    {
      "cell_type": "code",
      "source": [
        "# Step 12: Hyperparameter Tuning (Optional)\n",
        "# Experiment with different kernel types and C values\n",
        "kernel_options = ['linear', 'poly', 'rbf', 'sigmoid']\n",
        "C_values = [0.1, 1, 10]\n",
        "best_accuracy = 0\n",
        "best_params = {}\n",
        "\n",
        "print(\"\\nTuning SVM hyperparameters...\")\n",
        "for kernel in kernel_options:\n",
        "    for C in C_values:\n",
        "        temp_model = SVC(kernel=kernel, C=C, random_state=42)\n",
        "        temp_model.fit(X_train, y_train)\n",
        "        temp_pred = temp_model.predict(X_test)\n",
        "        temp_accuracy = accuracy_score(y_test, temp_pred)\n",
        "        print(f\"Kernel: {kernel}, C: {C}, Accuracy: {temp_accuracy:.2f}\")\n",
        "        if temp_accuracy > best_accuracy:\n",
        "            best_accuracy = temp_accuracy\n",
        "            best_params = {'kernel': kernel, 'C': C}\n",
        "\n",
        "print(f\"\\nBest Parameters: {best_params}, Best Accuracy: {best_accuracy:.2f}\")"
      ],
      "metadata": {
        "colab": {
          "base_uri": "https://localhost:8080/"
        },
        "id": "AcQJkyhYzUaf",
        "outputId": "065e97c3-4ff3-486b-c110-9fdfc6b0a855"
      },
      "execution_count": 26,
      "outputs": [
        {
          "output_type": "stream",
          "name": "stdout",
          "text": [
            "\n",
            "Tuning SVM hyperparameters...\n",
            "Kernel: linear, C: 0.1, Accuracy: 0.66\n",
            "Kernel: linear, C: 1, Accuracy: 0.89\n",
            "Kernel: linear, C: 10, Accuracy: 0.80\n",
            "Kernel: poly, C: 0.1, Accuracy: 0.17\n",
            "Kernel: poly, C: 1, Accuracy: 0.57\n",
            "Kernel: poly, C: 10, Accuracy: 0.83\n",
            "Kernel: rbf, C: 0.1, Accuracy: 0.29\n",
            "Kernel: rbf, C: 1, Accuracy: 0.74\n",
            "Kernel: rbf, C: 10, Accuracy: 0.86\n",
            "Kernel: sigmoid, C: 0.1, Accuracy: 0.29\n",
            "Kernel: sigmoid, C: 1, Accuracy: 0.51\n",
            "Kernel: sigmoid, C: 10, Accuracy: 0.71\n",
            "\n",
            "Best Parameters: {'kernel': 'linear', 'C': 1}, Best Accuracy: 0.89\n"
          ]
        }
      ]
    }
  ]
}