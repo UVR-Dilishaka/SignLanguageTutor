{
  "nbformat": 4,
  "nbformat_minor": 0,
  "metadata": {
    "colab": {
      "provenance": []
    },
    "kernelspec": {
      "name": "python3",
      "display_name": "Python 3"
    },
    "language_info": {
      "name": "python"
    }
  },
  "cells": [
    {
      "cell_type": "code",
      "execution_count": 1,
      "metadata": {
        "id": "LZPTscmtnpiP"
      },
      "outputs": [],
      "source": [
        "# Import necessary libraries\n",
        "import pandas as pd\n",
        "import numpy as np\n",
        "from sklearn.svm import SVC\n",
        "from sklearn.model_selection import train_test_split\n",
        "from sklearn.metrics import accuracy_score, classification_report, confusion_matrix\n",
        "import matplotlib.pyplot as plt\n",
        "import seaborn as sns"
      ]
    },
    {
      "cell_type": "code",
      "source": [
        "# Step 1: Load the dataset\n",
        "file_path = '/content/LDA_results.4.csv'  # Replace with the path to your dataset\n",
        "data = pd.read_csv(file_path)"
      ],
      "metadata": {
        "id": "NEVZVu-Wwu1_"
      },
      "execution_count": 2,
      "outputs": []
    },
    {
      "cell_type": "code",
      "source": [
        "# Step 2: Display the first few rows of the dataset\n",
        "print(\"First few rows of the dataset:\")\n",
        "print(data.head())"
      ],
      "metadata": {
        "colab": {
          "base_uri": "https://localhost:8080/"
        },
        "id": "rlo_neaZw_Mx",
        "outputId": "82052d56-51d6-47dd-9296-321b6afd43c7"
      },
      "execution_count": 3,
      "outputs": [
        {
          "output_type": "stream",
          "name": "stdout",
          "text": [
            "First few rows of the dataset:\n",
            "        LDA1      LDA2      LDA3      LDA4  label\n",
            "0   1.921664 -2.674763  0.172239 -2.628960     12\n",
            "1 -10.100228  4.409782  0.407498  0.368238     15\n",
            "2   5.899996  1.645313  1.683837  1.771158     17\n",
            "3   0.811099 -0.890581 -1.683839 -5.819650      4\n",
            "4   8.778212  9.201870 -7.135024 -3.891139     14\n"
          ]
        }
      ]
    },
    {
      "cell_type": "code",
      "source": [
        "# Step 3: Check for missing values\n",
        "if data.isnull().sum().sum() > 0:\n",
        "    print(\"Missing values detected. Filling with mean values...\")\n",
        "    data.fillna(data.mean(), inplace=True)\n",
        "else:\n",
        "    print(\"No missing values detected.\")\n",
        "\n",
        "# Step 4: Separate features and labels\n",
        "if 'label' in data.columns:\n",
        "    features = data.drop(columns=['label'])  # Dropping the label column\n",
        "    labels = data['label']\n",
        "    print(\"Features and labels separated successfully.\")\n",
        "else:\n",
        "    raise KeyError(\"'label' column not found in the dataset. Please ensure the dataset contains a 'label' column.\")"
      ],
      "metadata": {
        "colab": {
          "base_uri": "https://localhost:8080/"
        },
        "id": "m_n_3-DtxCaA",
        "outputId": "136bd703-a712-433f-cd75-05aac5c9260f"
      },
      "execution_count": 4,
      "outputs": [
        {
          "output_type": "stream",
          "name": "stdout",
          "text": [
            "No missing values detected.\n",
            "Features and labels separated successfully.\n"
          ]
        }
      ]
    },
    {
      "cell_type": "code",
      "source": [
        "# Step 5: Split the dataset into training and testing sets\n",
        "X_train, X_test, y_train, y_test = train_test_split(features, labels, test_size=0.2, random_state=42)\n",
        "print(f\"Training set size: {X_train.shape}\")\n",
        "print(f\"Testing set size: {X_test.shape}\")"
      ],
      "metadata": {
        "colab": {
          "base_uri": "https://localhost:8080/"
        },
        "id": "UVwuHwhXxPb2",
        "outputId": "fd44f38d-c847-4706-e97e-8fc46f24b402"
      },
      "execution_count": 5,
      "outputs": [
        {
          "output_type": "stream",
          "name": "stdout",
          "text": [
            "Training set size: (112, 4)\n",
            "Testing set size: (28, 4)\n"
          ]
        }
      ]
    },
    {
      "cell_type": "code",
      "source": [
        "# Step 6: Initialize the SVM model\n",
        "kernel_type = 'linear'  # Options: 'linear', 'poly', 'rbf', 'sigmoid'\n",
        "svm_model = SVC(kernel=kernel_type, random_state=42)\n",
        "print(f\"Initialized SVM with '{kernel_type}' kernel.\")"
      ],
      "metadata": {
        "colab": {
          "base_uri": "https://localhost:8080/"
        },
        "id": "_QHbcNnPxTKz",
        "outputId": "7ecd666c-e819-42ad-9cee-1ddbc9d8e1c7"
      },
      "execution_count": 7,
      "outputs": [
        {
          "output_type": "stream",
          "name": "stdout",
          "text": [
            "Initialized SVM with 'linear' kernel.\n"
          ]
        }
      ]
    },
    {
      "cell_type": "code",
      "source": [
        "# Step 7: Train the SVM model\n",
        "svm_model.fit(X_train, y_train)\n",
        "print(\"SVM model trained successfully.\")"
      ],
      "metadata": {
        "colab": {
          "base_uri": "https://localhost:8080/"
        },
        "id": "2pFG1F4AxXkQ",
        "outputId": "04a46b54-3798-4ddf-8b21-93866c6c8354"
      },
      "execution_count": 8,
      "outputs": [
        {
          "output_type": "stream",
          "name": "stdout",
          "text": [
            "SVM model trained successfully.\n"
          ]
        }
      ]
    },
    {
      "cell_type": "code",
      "source": [
        "# Step 8: Make predictions on the test set\n",
        "y_pred = svm_model.predict(X_test)\n",
        "print(\"Predictions made on the test set.\")"
      ],
      "metadata": {
        "colab": {
          "base_uri": "https://localhost:8080/"
        },
        "id": "UiYrpYDBxeRH",
        "outputId": "d016fb71-d2d3-4c60-a1f8-57a09a9fc1d6"
      },
      "execution_count": 9,
      "outputs": [
        {
          "output_type": "stream",
          "name": "stdout",
          "text": [
            "Predictions made on the test set.\n"
          ]
        }
      ]
    },
    {
      "cell_type": "code",
      "source": [
        "# Step 9: Evaluate the SVM model\n",
        "accuracy = accuracy_score(y_test, y_pred)\n",
        "print(f\"\\nSVM Model Accuracy: {accuracy:.2f}\")"
      ],
      "metadata": {
        "colab": {
          "base_uri": "https://localhost:8080/"
        },
        "id": "THPlOMScySvU",
        "outputId": "09b544b0-e408-44a3-e957-7c70f57b7dba"
      },
      "execution_count": 10,
      "outputs": [
        {
          "output_type": "stream",
          "name": "stdout",
          "text": [
            "\n",
            "SVM Model Accuracy: 0.79\n"
          ]
        }
      ]
    },
    {
      "cell_type": "code",
      "source": [
        "# Step 10: Display the classification report\n",
        "print(\"\\nClassification Report for SVM:\")\n",
        "print(classification_report(y_test, y_pred))"
      ],
      "metadata": {
        "colab": {
          "base_uri": "https://localhost:8080/"
        },
        "id": "68csMw7_zLG6",
        "outputId": "bf967713-98c5-442b-8fab-1a961f3a3728"
      },
      "execution_count": 11,
      "outputs": [
        {
          "output_type": "stream",
          "name": "stdout",
          "text": [
            "\n",
            "Classification Report for SVM:\n",
            "              precision    recall  f1-score   support\n",
            "\n",
            "           2       0.50      1.00      0.67         1\n",
            "           3       1.00      1.00      1.00         1\n",
            "           4       0.50      1.00      0.67         1\n",
            "           5       1.00      0.50      0.67         2\n",
            "           6       1.00      1.00      1.00         1\n",
            "           7       0.80      1.00      0.89         4\n",
            "           8       0.00      0.00      0.00         1\n",
            "           9       1.00      1.00      1.00         3\n",
            "          10       1.00      1.00      1.00         2\n",
            "          11       0.50      1.00      0.67         1\n",
            "          12       0.00      0.00      0.00         2\n",
            "          13       1.00      1.00      1.00         1\n",
            "          14       1.00      1.00      1.00         2\n",
            "          15       1.00      1.00      1.00         1\n",
            "          16       0.75      1.00      0.86         3\n",
            "          17       0.00      0.00      0.00         1\n",
            "          18       0.00      0.00      0.00         1\n",
            "\n",
            "    accuracy                           0.79        28\n",
            "   macro avg       0.65      0.74      0.67        28\n",
            "weighted avg       0.71      0.79      0.73        28\n",
            "\n"
          ]
        },
        {
          "output_type": "stream",
          "name": "stderr",
          "text": [
            "/usr/local/lib/python3.11/dist-packages/sklearn/metrics/_classification.py:1565: UndefinedMetricWarning: Precision is ill-defined and being set to 0.0 in labels with no predicted samples. Use `zero_division` parameter to control this behavior.\n",
            "  _warn_prf(average, modifier, f\"{metric.capitalize()} is\", len(result))\n",
            "/usr/local/lib/python3.11/dist-packages/sklearn/metrics/_classification.py:1565: UndefinedMetricWarning: Precision is ill-defined and being set to 0.0 in labels with no predicted samples. Use `zero_division` parameter to control this behavior.\n",
            "  _warn_prf(average, modifier, f\"{metric.capitalize()} is\", len(result))\n",
            "/usr/local/lib/python3.11/dist-packages/sklearn/metrics/_classification.py:1565: UndefinedMetricWarning: Precision is ill-defined and being set to 0.0 in labels with no predicted samples. Use `zero_division` parameter to control this behavior.\n",
            "  _warn_prf(average, modifier, f\"{metric.capitalize()} is\", len(result))\n"
          ]
        }
      ]
    },
    {
      "cell_type": "code",
      "source": [
        "# Step 11: Plot the confusion matrix\n",
        "conf_matrix = confusion_matrix(y_test, y_pred)\n",
        "plt.figure(figsize=(8, 6))\n",
        "sns.heatmap(conf_matrix, annot=True, fmt='d', cmap='Blues', cbar=False)\n",
        "plt.title(\"Confusion Matrix for SVM\")\n",
        "plt.xlabel(\"Predicted\")\n",
        "plt.ylabel(\"Actual\")\n",
        "plt.show()"
      ],
      "metadata": {
        "colab": {
          "base_uri": "https://localhost:8080/",
          "height": 564
        },
        "id": "BM1tpXc0zPrH",
        "outputId": "940063d4-7f3d-4a2b-d23e-163b76b5d449"
      },
      "execution_count": 12,
      "outputs": [
        {
          "output_type": "display_data",
          "data": {
            "text/plain": [
              "<Figure size 800x600 with 1 Axes>"
            ],
            "image/png": "[encoded data removed]"
          },
          "metadata": {}
        }
      ]
    },
    {
      "cell_type": "code",
      "source": [
        "# Step 12: Hyperparameter Tuning (Optional)\n",
        "# Experiment with different kernel types and C values\n",
        "kernel_options = ['linear', 'poly', 'rbf', 'sigmoid']\n",
        "C_values = [0.1, 1, 10]\n",
        "best_accuracy = 0\n",
        "best_params = {}\n",
        "\n",
        "print(\"\\nTuning SVM hyperparameters...\")\n",
        "for kernel in kernel_options:\n",
        "    for C in C_values:\n",
        "        temp_model = SVC(kernel=kernel, C=C, random_state=42)\n",
        "        temp_model.fit(X_train, y_train)\n",
        "        temp_pred = temp_model.predict(X_test)\n",
        "        temp_accuracy = accuracy_score(y_test, temp_pred)\n",
        "        print(f\"Kernel: {kernel}, C: {C}, Accuracy: {temp_accuracy:.2f}\")\n",
        "        if temp_accuracy > best_accuracy:\n",
        "            best_accuracy = temp_accuracy\n",
        "            best_params = {'kernel': kernel, 'C': C}\n",
        "\n",
        "print(f\"\\nBest Parameters: {best_params}, Best Accuracy: {best_accuracy:.2f}\")"
      ],
      "metadata": {
        "colab": {
          "base_uri": "https://localhost:8080/"
        },
        "id": "AcQJkyhYzUaf",
        "outputId": "e0535d33-57cc-427b-8d57-736aa5c470cd"
      },
      "execution_count": 13,
      "outputs": [
        {
          "output_type": "stream",
          "name": "stdout",
          "text": [
            "\n",
            "Tuning SVM hyperparameters...\n",
            "Kernel: linear, C: 0.1, Accuracy: 0.82\n",
            "Kernel: linear, C: 1, Accuracy: 0.79\n",
            "Kernel: linear, C: 10, Accuracy: 0.79\n",
            "Kernel: poly, C: 0.1, Accuracy: 0.32\n",
            "Kernel: poly, C: 1, Accuracy: 0.57\n",
            "Kernel: poly, C: 10, Accuracy: 0.75\n",
            "Kernel: rbf, C: 0.1, Accuracy: 0.29\n",
            "Kernel: rbf, C: 1, Accuracy: 0.68\n",
            "Kernel: rbf, C: 10, Accuracy: 0.86\n",
            "Kernel: sigmoid, C: 0.1, Accuracy: 0.29\n",
            "Kernel: sigmoid, C: 1, Accuracy: 0.46\n",
            "Kernel: sigmoid, C: 10, Accuracy: 0.64\n",
            "\n",
            "Best Parameters: {'kernel': 'rbf', 'C': 10}, Best Accuracy: 0.86\n"
          ]
        }
      ]
    }
  ]
}