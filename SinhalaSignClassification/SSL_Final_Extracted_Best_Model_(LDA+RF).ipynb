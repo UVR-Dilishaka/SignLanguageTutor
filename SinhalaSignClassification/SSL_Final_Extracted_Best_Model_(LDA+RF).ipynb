{
  "nbformat": 4,
  "nbformat_minor": 0,
  "metadata": {
    "colab": {
      "provenance": []
    },
    "kernelspec": {
      "name": "python3",
      "display_name": "Python 3"
    },
    "language_info": {
      "name": "python"
    }
  },
  "cells": [
    {
      "cell_type": "code",
      "execution_count": 2,
      "metadata": {
        "colab": {
          "base_uri": "https://localhost:8080/"
        },
        "id": "iBwg5rGQfChZ",
        "outputId": "4d8445b9-2998-41c8-b25f-f8580a1c76e3"
      },
      "outputs": [
        {
          "output_type": "stream",
          "name": "stdout",
          "text": [
            "Model loaded successfully from /content/Random Forest_best_model.pkl\n",
            "Model saved successfully to /content/Extracted_Random_Forest_model.pkl\n"
          ]
        }
      ],
      "source": [
        "import joblib\n",
        "\n",
        "# Function to load the model from a given path\n",
        "def load_model(model_path):\n",
        "    \"\"\"\n",
        "    Load the trained model from the specified file path.\n",
        "    Args:\n",
        "        model_path (str): The path to the saved model file.\n",
        "    Returns:\n",
        "        model: The loaded model object.\n",
        "    \"\"\"\n",
        "    try:\n",
        "        # Load the model\n",
        "        model = joblib.load(model_path)\n",
        "        print(f\"Model loaded successfully from {model_path}\")\n",
        "        return model\n",
        "    except Exception as e:\n",
        "        print(f\"Error loading the model: {e}\")\n",
        "        return None\n",
        "\n",
        "# Function to save the model to a new location\n",
        "def save_model(model, new_model_path):\n",
        "    \"\"\"\n",
        "    Save the model to the specified file path.\n",
        "    Args:\n",
        "        model: The trained model to be saved.\n",
        "        new_model_path (str): The new file path where the model should be saved.\n",
        "    \"\"\"\n",
        "    try:\n",
        "        # Save the model to a new location\n",
        "        joblib.dump(model, new_model_path)\n",
        "        print(f\"Model saved successfully to {new_model_path}\")\n",
        "    except Exception as e:\n",
        "        print(f\"Error saving the model: {e}\")\n",
        "\n",
        "# Define the path to the best model (the one to extract)\n",
        "extracted_model_path = '/content/Random Forest_best_model.pkl'\n",
        "\n",
        "# Load the best model\n",
        "best_model = load_model(extracted_model_path)\n",
        "\n",
        "# Define the new path to save the extracted model\n",
        "new_model_save_path = '/content/Extracted_Random_Forest_model.pkl'\n",
        "\n",
        "# Save the extracted model to the new path\n",
        "if best_model:\n",
        "    save_model(best_model, new_model_save_path)\n"
      ]
    }
  ]
}