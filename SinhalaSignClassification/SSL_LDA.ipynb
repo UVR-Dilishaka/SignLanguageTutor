{
  "nbformat": 4,
  "nbformat_minor": 0,
  "metadata": {
    "colab": {
      "provenance": []
    },
    "kernelspec": {
      "name": "python3",
      "display_name": "Python 3"
    },
    "language_info": {
      "name": "python"
    }
  },
  "cells": [
    {
      "cell_type": "code",
      "execution_count": 1,
      "metadata": {
        "id": "Qw5K2Jxdl6Uk"
      },
      "outputs": [],
      "source": [
        "import pandas as pd\n",
        "import numpy as np\n",
        "from sklearn.model_selection import train_test_split\n",
        "from sklearn.preprocessing import StandardScaler\n",
        "from sklearn.discriminant_analysis import LinearDiscriminantAnalysis as LDA\n",
        "import matplotlib.pyplot as plt"
      ]
    },
    {
      "cell_type": "code",
      "source": [
        "# Load the dataset\n",
        "file_path = '/content/SSL.csv'  # Path to the uploaded dataset\n",
        "data = pd.read_csv(file_path)"
      ],
      "metadata": {
        "id": "WM07JLebm5Al"
      },
      "execution_count": 2,
      "outputs": []
    },
    {
      "cell_type": "code",
      "source": [
        "# Check for missing values and handle them\n",
        "if data.isnull().sum().sum() > 0:\n",
        "    print(\"Missing values detected. Filling with mean values...\")\n",
        "    data.fillna(data.mean(), inplace=True)\n",
        "else:\n",
        "    print(\"No missing values detected.\")"
      ],
      "metadata": {
        "colab": {
          "base_uri": "https://localhost:8080/"
        },
        "id": "_PZ5Sn-ysRAu",
        "outputId": "af02bd27-656a-4885-937b-8e52d84127e5"
      },
      "execution_count": 3,
      "outputs": [
        {
          "output_type": "stream",
          "name": "stdout",
          "text": [
            "No missing values detected.\n"
          ]
        }
      ]
    },
    {
      "cell_type": "code",
      "source": [
        "# Separate features and labels\n",
        "if 'LABEL' in data.columns:\n",
        "    features = data.drop(columns=['LABEL'])  # Assuming the 'label' column represents the target variable\n",
        "    labels = data['LABEL']\n",
        "    print(\"Features and labels separated successfully.\")\n",
        "else:\n",
        "    raise KeyError(\"'label' column not found in the dataset. Please ensure the file contains a 'label' column.\")"
      ],
      "metadata": {
        "colab": {
          "base_uri": "https://localhost:8080/"
        },
        "id": "4wKk3SD9nCVk",
        "outputId": "80ed7709-2c04-46fc-96b9-04c91195248d"
      },
      "execution_count": 4,
      "outputs": [
        {
          "output_type": "stream",
          "name": "stdout",
          "text": [
            "Features and labels separated successfully.\n"
          ]
        }
      ]
    },
    {
      "cell_type": "code",
      "source": [
        "# Split the data into training and testing sets\n",
        "X_train, X_test, y_train, y_test = train_test_split(features, labels, test_size=0.2, random_state=42)\n",
        "print(\"Data split into training and testing sets.\")"
      ],
      "metadata": {
        "colab": {
          "base_uri": "https://localhost:8080/"
        },
        "id": "q_wJnfrsshqV",
        "outputId": "eccb27f9-05a6-4adf-9c5f-5164852ac3eb"
      },
      "execution_count": 5,
      "outputs": [
        {
          "output_type": "stream",
          "name": "stdout",
          "text": [
            "Data split into training and testing sets.\n"
          ]
        }
      ]
    },
    {
      "cell_type": "code",
      "source": [
        "# Standardize the features\n",
        "scaler = StandardScaler()\n",
        "X_train_scaled = scaler.fit_transform(X_train)\n",
        "X_test_scaled = scaler.transform(X_test)\n",
        "print(\"Features standardized successfully.\")"
      ],
      "metadata": {
        "colab": {
          "base_uri": "https://localhost:8080/"
        },
        "id": "JA9XMimKndeM",
        "outputId": "99b48267-a41b-4e15-dd2e-33119f59b0c6"
      },
      "execution_count": 6,
      "outputs": [
        {
          "output_type": "stream",
          "name": "stdout",
          "text": [
            "Features standardized successfully.\n"
          ]
        }
      ]
    },
    {
      "cell_type": "code",
      "source": [
        "# Perform LDA with all 16 components\n",
        "lda = LDA(n_components=16)\n",
        "X_train_lda = lda.fit_transform(X_train_scaled, y_train)\n",
        "X_test_lda = lda.transform(X_test_scaled)\n",
        "print(\"LDA transformation completed.\")"
      ],
      "metadata": {
        "colab": {
          "base_uri": "https://localhost:8080/"
        },
        "id": "3FSI9H63ssGt",
        "outputId": "ae462f1b-b14a-410c-e8f5-4dbff04fbfc4"
      },
      "execution_count": 7,
      "outputs": [
        {
          "output_type": "stream",
          "name": "stdout",
          "text": [
            "LDA transformation completed.\n"
          ]
        }
      ]
    },
    {
      "cell_type": "code",
      "source": [
        "# Explained variance ratio for each component\n",
        "explained_variance_ratio = lda.explained_variance_ratio_\n",
        "print(\"Explained Variance Ratio for each component:\")\n",
        "for i, variance in enumerate(explained_variance_ratio):\n",
        "    print(f\"Component {i + 1}: {variance:.4f} ({variance * 100:.2f}%)\")"
      ],
      "metadata": {
        "colab": {
          "base_uri": "https://localhost:8080/"
        },
        "id": "oj-QtTpHswW1",
        "outputId": "3b620054-e3ef-43b3-b72a-7ff40b788d18"
      },
      "execution_count": 8,
      "outputs": [
        {
          "output_type": "stream",
          "name": "stdout",
          "text": [
            "Explained Variance Ratio for each component:\n",
            "Component 1: 0.4233 (42.33%)\n",
            "Component 2: 0.3124 (31.24%)\n",
            "Component 3: 0.1234 (12.34%)\n",
            "Component 4: 0.0622 (6.22%)\n",
            "Component 5: 0.0352 (3.52%)\n",
            "Component 6: 0.0134 (1.34%)\n",
            "Component 7: 0.0111 (1.11%)\n",
            "Component 8: 0.0088 (0.88%)\n",
            "Component 9: 0.0056 (0.56%)\n",
            "Component 10: 0.0021 (0.21%)\n",
            "Component 11: 0.0013 (0.13%)\n",
            "Component 12: 0.0006 (0.06%)\n",
            "Component 13: 0.0003 (0.03%)\n",
            "Component 14: 0.0002 (0.02%)\n",
            "Component 15: 0.0001 (0.01%)\n",
            "Component 16: 0.0000 (0.00%)\n"
          ]
        }
      ]
    },
    {
      "cell_type": "code",
      "source": [
        "# Plot cumulative explained variance\n",
        "cumulative_variance = np.cumsum(explained_variance_ratio)\n",
        "plt.figure(figsize=(8, 6))\n",
        "plt.plot(range(1, len(cumulative_variance) + 1), cumulative_variance, marker='o', linestyle='--', color='b')\n",
        "plt.title('Cumulative Explained Variance for LDA')\n",
        "plt.xlabel('Number of Components')\n",
        "plt.ylabel('Cumulative Explained Variance')\n",
        "plt.grid()\n",
        "plt.show()"
      ],
      "metadata": {
        "id": "JbZBQQZMsz2l",
        "outputId": "bbbc5843-5fde-46d3-b765-fb530f609d50",
        "colab": {
          "base_uri": "https://localhost:8080/",
          "height": 564
        }
      },
      "execution_count": 9,
      "outputs": [
        {
          "output_type": "display_data",
          "data": {
            "text/plain": [
              "<Figure size 800x600 with 1 Axes>"
            ],
            "image/png": "[encoded data removed]"
          },
          "metadata": {}
        }
      ]
    },
    {
      "cell_type": "code",
      "source": [
        "# Save LDA-transformed data for inspection (optional)\n",
        "lda_df = pd.DataFrame(data=X_train_lda, columns=[f'LDA{i + 1}' for i in range(X_train_lda.shape[1])])\n",
        "lda_df['label'] = y_train.values\n",
        "lda_df.to_csv('LDA_results.csv', index=False)\n",
        "print(\"LDA results saved to 'LDA_results.csv'.\")"
      ],
      "metadata": {
        "id": "NyUiFZ8ks2aR",
        "outputId": "76d18d66-ec9d-44b4-a69f-16e090b4d9de",
        "colab": {
          "base_uri": "https://localhost:8080/"
        }
      },
      "execution_count": 10,
      "outputs": [
        {
          "output_type": "stream",
          "name": "stdout",
          "text": [
            "LDA results saved to 'LDA_results.csv'.\n"
          ]
        }
      ]
    }
  ]
}