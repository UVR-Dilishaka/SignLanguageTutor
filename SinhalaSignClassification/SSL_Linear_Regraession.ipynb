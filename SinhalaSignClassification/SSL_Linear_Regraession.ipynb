{
  "nbformat": 4,
  "nbformat_minor": 0,
  "metadata": {
    "colab": {
      "provenance": []
    },
    "kernelspec": {
      "name": "python3",
      "display_name": "Python 3"
    },
    "language_info": {
      "name": "python"
    }
  },
  "cells": [
    {
      "cell_type": "code",
      "execution_count": 1,
      "metadata": {
        "id": "AabEUCeF0XU2"
      },
      "outputs": [],
      "source": [
        "# Import libraries\n",
        "import pandas as pd\n",
        "import numpy as np\n",
        "from sklearn.model_selection import train_test_split\n",
        "from sklearn.linear_model import LogisticRegression\n",
        "from sklearn.metrics import accuracy_score, classification_report, confusion_matrix\n",
        "import seaborn as sns\n",
        "import matplotlib.pyplot as plt"
      ]
    },
    {
      "cell_type": "code",
      "source": [
        "# Step 1: Load the dataset\n",
        "file_path = '/content/PCA_results.8.csv'  # Replace with the path to your dataset\n",
        "data = pd.read_csv(file_path)"
      ],
      "metadata": {
        "id": "0OC50PBI0iBU"
      },
      "execution_count": 2,
      "outputs": []
    },
    {
      "cell_type": "code",
      "source": [
        "# Step 2: Display the first few rows of the dataset\n",
        "print(\"First few rows of the dataset:\")\n",
        "print(data.head())"
      ],
      "metadata": {
        "colab": {
          "base_uri": "https://localhost:8080/"
        },
        "id": "PW68vJiJ0k_P",
        "outputId": "046e56bb-1ed7-4ccd-bb10-75569a415cea"
      },
      "execution_count": 3,
      "outputs": [
        {
          "output_type": "stream",
          "name": "stdout",
          "text": [
            "First few rows of the dataset:\n",
            "        PC1       PC2       PC3       PC4       PC5       PC6       PC7  \\\n",
            "0  3.274355 -0.096344  1.083427 -0.779993  0.733224  0.499635 -1.212490   \n",
            "1  3.097952 -0.523544  1.495265 -0.142860  0.683907 -0.164014 -0.978976   \n",
            "2  3.470452 -0.318442  1.639695 -0.478387  0.878706  0.271496 -0.161314   \n",
            "3  3.197982 -0.301340  1.534107 -0.769627  0.886398  0.445042 -0.595537   \n",
            "4  2.916098  0.137352  1.541440 -1.324139  0.369705  0.771748 -1.421975   \n",
            "\n",
            "        PC8  label  \n",
            "0  0.127588      1  \n",
            "1  0.292278      1  \n",
            "2  0.013030      1  \n",
            "3  0.384700      1  \n",
            "4  0.418969      1  \n"
          ]
        }
      ]
    },
    {
      "cell_type": "code",
      "source": [
        "# Step 3: Check for missing values\n",
        "if data.isnull().sum().sum() > 0:\n",
        "    print(\"Missing values detected. Filling with mean values...\")\n",
        "    data.fillna(data.mean(), inplace=True)\n",
        "else:\n",
        "    print(\"No missing values detected.\")"
      ],
      "metadata": {
        "colab": {
          "base_uri": "https://localhost:8080/"
        },
        "id": "Bye9bMkH0n3K",
        "outputId": "937d964e-5113-494f-a269-ab99c53e07dc"
      },
      "execution_count": 4,
      "outputs": [
        {
          "output_type": "stream",
          "name": "stdout",
          "text": [
            "No missing values detected.\n"
          ]
        }
      ]
    },
    {
      "cell_type": "code",
      "source": [
        "# Step 4: Separate features and labels\n",
        "if 'label' in data.columns:\n",
        "    features = data.drop(columns=['label'])  # Dropping the label column\n",
        "    labels = data['label']\n",
        "    print(\"Features and labels separated successfully.\")\n",
        "else:\n",
        "    raise KeyError(\"'label' column not found in the dataset. Please ensure the dataset contains a 'label' column.\")"
      ],
      "metadata": {
        "colab": {
          "base_uri": "https://localhost:8080/"
        },
        "id": "mZkZf_Gh0oid",
        "outputId": "c89f7c1d-acff-4905-cdd3-531ecbefbcd5"
      },
      "execution_count": 5,
      "outputs": [
        {
          "output_type": "stream",
          "name": "stdout",
          "text": [
            "Features and labels separated successfully.\n"
          ]
        }
      ]
    },
    {
      "cell_type": "code",
      "source": [
        "# Step 5: Split the dataset into training and testing sets\n",
        "X_train, X_test, y_train, y_test = train_test_split(features, labels, test_size=0.2, random_state=42)\n",
        "print(f\"Training set size: {X_train.shape}\")\n",
        "print(f\"Testing set size: {X_test.shape}\")"
      ],
      "metadata": {
        "colab": {
          "base_uri": "https://localhost:8080/"
        },
        "id": "WniWZONe0rIO",
        "outputId": "09af506b-e8d1-47cf-cacc-d360b905d998"
      },
      "execution_count": 6,
      "outputs": [
        {
          "output_type": "stream",
          "name": "stdout",
          "text": [
            "Training set size: (140, 8)\n",
            "Testing set size: (35, 8)\n"
          ]
        }
      ]
    },
    {
      "cell_type": "code",
      "source": [
        "# Step 6: Initialize the Logistic Regression model\n",
        "log_reg = LogisticRegression(max_iter=200)  # Adjust max_iter for convergence\n",
        "print(\"Initialized Logistic Regression model.\")"
      ],
      "metadata": {
        "colab": {
          "base_uri": "https://localhost:8080/"
        },
        "id": "Vn88GxQr0uSn",
        "outputId": "368a0df0-b87e-44e7-c418-7d2f50664eae"
      },
      "execution_count": 7,
      "outputs": [
        {
          "output_type": "stream",
          "name": "stdout",
          "text": [
            "Initialized Logistic Regression model.\n"
          ]
        }
      ]
    },
    {
      "cell_type": "code",
      "source": [
        "# Step 7: Train the Logistic Regression model\n",
        "log_reg.fit(X_train, y_train)\n",
        "print(\"Logistic Regression model trained successfully.\")"
      ],
      "metadata": {
        "colab": {
          "base_uri": "https://localhost:8080/"
        },
        "id": "e15fxndk0xI_",
        "outputId": "13fd6b1f-1c5b-4595-f05c-a0e7dff8c1c4"
      },
      "execution_count": 8,
      "outputs": [
        {
          "output_type": "stream",
          "name": "stdout",
          "text": [
            "Logistic Regression model trained successfully.\n"
          ]
        }
      ]
    },
    {
      "cell_type": "code",
      "source": [
        "# Step 8: Make predictions on the test set\n",
        "y_pred = log_reg.predict(X_test)\n",
        "print(\"Predictions made on the test set.\")"
      ],
      "metadata": {
        "colab": {
          "base_uri": "https://localhost:8080/"
        },
        "id": "wAEU1iEA0zWs",
        "outputId": "8cd84c16-66ec-49a6-c988-0a8c4a7cdb4d"
      },
      "execution_count": 9,
      "outputs": [
        {
          "output_type": "stream",
          "name": "stdout",
          "text": [
            "Predictions made on the test set.\n"
          ]
        }
      ]
    },
    {
      "cell_type": "code",
      "source": [
        "# Step 9: Evaluate the Logistic Regression model\n",
        "accuracy = accuracy_score(y_test, y_pred)\n",
        "print(f\"\\nLogistic Regression Model Accuracy: {accuracy:.2f}\")"
      ],
      "metadata": {
        "colab": {
          "base_uri": "https://localhost:8080/"
        },
        "id": "YsgNXBvz01AL",
        "outputId": "25307a9c-3f06-4f07-c3e6-d8af208f8cf7"
      },
      "execution_count": 10,
      "outputs": [
        {
          "output_type": "stream",
          "name": "stdout",
          "text": [
            "\n",
            "Logistic Regression Model Accuracy: 0.80\n"
          ]
        }
      ]
    },
    {
      "cell_type": "code",
      "source": [
        "# Step 10: Display the classification report\n",
        "print(\"\\nClassification Report for Logistic Regression:\")\n",
        "print(classification_report(y_test, y_pred))"
      ],
      "metadata": {
        "colab": {
          "base_uri": "https://localhost:8080/"
        },
        "id": "RtaYmvUS03Bt",
        "outputId": "6fe10dd4-3567-46c1-c8d2-a6169dbdbf79"
      },
      "execution_count": 11,
      "outputs": [
        {
          "output_type": "stream",
          "name": "stdout",
          "text": [
            "\n",
            "Classification Report for Logistic Regression:\n",
            "              precision    recall  f1-score   support\n",
            "\n",
            "           2       1.00      0.50      0.67         2\n",
            "           3       0.86      0.75      0.80         8\n",
            "           4       1.00      1.00      1.00         2\n",
            "           5       1.00      0.33      0.50         3\n",
            "           6       1.00      1.00      1.00         2\n",
            "           7       0.67      1.00      0.80         2\n",
            "           8       0.33      1.00      0.50         1\n",
            "          10       0.00      0.00      0.00         1\n",
            "          11       1.00      1.00      1.00         3\n",
            "          12       1.00      1.00      1.00         1\n",
            "          13       1.00      1.00      1.00         3\n",
            "          14       1.00      1.00      1.00         2\n",
            "          15       1.00      0.50      0.67         2\n",
            "          16       0.50      1.00      0.67         2\n",
            "          18       1.00      1.00      1.00         1\n",
            "\n",
            "    accuracy                           0.80        35\n",
            "   macro avg       0.82      0.81      0.77        35\n",
            "weighted avg       0.87      0.80      0.80        35\n",
            "\n"
          ]
        }
      ]
    },
    {
      "cell_type": "code",
      "source": [
        "# Step 11: Plot the confusion matrix\n",
        "conf_matrix = confusion_matrix(y_test, y_pred)\n",
        "plt.figure(figsize=(8, 6))\n",
        "sns.heatmap(conf_matrix, annot=True, fmt='d', cmap='Blues', cbar=False)\n",
        "plt.title(\"Confusion Matrix for Logistic Regression\")\n",
        "plt.xlabel(\"Predicted\")\n",
        "plt.ylabel(\"Actual\")\n",
        "plt.show()"
      ],
      "metadata": {
        "colab": {
          "base_uri": "https://localhost:8080/",
          "height": 564
        },
        "id": "-NlIuqY4046m",
        "outputId": "4ad5bf5d-f37e-44d2-f4cd-17283b7e626f"
      },
      "execution_count": 12,
      "outputs": [
        {
          "output_type": "display_data",
          "data": {
            "text/plain": [
              "<Figure size 800x600 with 1 Axes>"
            ],
            "image/png": "[encoded data removed]"
          },
          "metadata": {}
        }
      ]
    }
  ]
}
