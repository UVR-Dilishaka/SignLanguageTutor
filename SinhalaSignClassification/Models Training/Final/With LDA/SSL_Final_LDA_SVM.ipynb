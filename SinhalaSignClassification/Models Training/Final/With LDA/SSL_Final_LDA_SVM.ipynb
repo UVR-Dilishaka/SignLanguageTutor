{
  "nbformat": 4,
  "nbformat_minor": 0,
  "metadata": {
    "colab": {
      "provenance": []
    },
    "kernelspec": {
      "name": "python3",
      "display_name": "Python 3"
    },
    "language_info": {
      "name": "python"
    }
  },
  "cells": [
    {
      "cell_type": "code",
      "execution_count": 1,
      "metadata": {
        "id": "LZPTscmtnpiP"
      },
      "outputs": [],
      "source": [
        "# Import necessary libraries\n",
        "import pandas as pd\n",
        "import numpy as np\n",
        "from sklearn.svm import SVC\n",
        "from sklearn.model_selection import train_test_split\n",
        "from sklearn.metrics import accuracy_score, classification_report, confusion_matrix\n",
        "import matplotlib.pyplot as plt\n",
        "import seaborn as sns"
      ]
    },
    {
      "cell_type": "code",
      "source": [
        "# Step 1: Load the dataset\n",
        "file_path = '/content/lda_result_95variance_6components.csv'  # Replace with the path to your dataset\n",
        "data = pd.read_csv(file_path)"
      ],
      "metadata": {
        "id": "NEVZVu-Wwu1_"
      },
      "execution_count": 2,
      "outputs": []
    },
    {
      "cell_type": "code",
      "source": [
        "# Step 2: Display the first few rows of the dataset\n",
        "print(\"First few rows of the dataset:\")\n",
        "print(data.head())"
      ],
      "metadata": {
        "colab": {
          "base_uri": "https://localhost:8080/"
        },
        "id": "rlo_neaZw_Mx",
        "outputId": "fdd21ae7-eb1b-4686-81ce-830bc4956436"
      },
      "execution_count": 3,
      "outputs": [
        {
          "output_type": "stream",
          "name": "stdout",
          "text": [
            "First few rows of the dataset:\n",
            "   LDA_Component_1  LDA_Component_2  LDA_Component_3  LDA_Component_4  \\\n",
            "0        -5.480315         4.993009         2.500051        -1.749614   \n",
            "1        -5.338052         5.312724         2.852190        -1.559227   \n",
            "2        -5.675704         6.260780         3.099478        -1.161352   \n",
            "3        -5.366999         4.548541         2.841174        -1.474396   \n",
            "4        -6.267210         5.382642         2.550317        -2.778052   \n",
            "\n",
            "   LDA_Component_5  LDA_Component_6  LABEL  \n",
            "0         1.290731        -1.166533      1  \n",
            "1         0.199803        -1.066835      1  \n",
            "2         1.361986        -2.075913      1  \n",
            "3        -0.227373        -0.889191      1  \n",
            "4         1.708958        -0.939257      1  \n"
          ]
        }
      ]
    },
    {
      "cell_type": "code",
      "source": [
        "# Step 3: Check for missing values\n",
        "if data.isnull().sum().sum() > 0:\n",
        "    print(\"Missing values detected. Filling with mean values...\")\n",
        "    data.fillna(data.mean(), inplace=True)\n",
        "else:\n",
        "    print(\"No missing values detected.\")\n",
        "\n",
        "# Step 4: Separate features and labels\n",
        "if 'LABEL' in data.columns:\n",
        "    features = data.drop(columns=['LABEL'])  # Dropping the label column\n",
        "    labels = data['LABEL']\n",
        "    print(\"Features and labels separated successfully.\")\n",
        "else:\n",
        "    raise KeyError(\"'label' column not found in the dataset. Please ensure the dataset contains a 'label' column.\")"
      ],
      "metadata": {
        "colab": {
          "base_uri": "https://localhost:8080/"
        },
        "id": "m_n_3-DtxCaA",
        "outputId": "aeab1efb-840f-472d-a0c6-c6210b35b518"
      },
      "execution_count": 5,
      "outputs": [
        {
          "output_type": "stream",
          "name": "stdout",
          "text": [
            "No missing values detected.\n",
            "Features and labels separated successfully.\n"
          ]
        }
      ]
    },
    {
      "cell_type": "code",
      "source": [
        "# Step 5: Split the dataset into training and testing sets\n",
        "X_train, X_test, y_train, y_test = train_test_split(features, labels, test_size=0.2, random_state=42)\n",
        "print(f\"Training set size: {X_train.shape}\")\n",
        "print(f\"Testing set size: {X_test.shape}\")"
      ],
      "metadata": {
        "colab": {
          "base_uri": "https://localhost:8080/"
        },
        "id": "UVwuHwhXxPb2",
        "outputId": "7a1993ea-e4e1-49ec-91fa-e8e4f9c13b4f"
      },
      "execution_count": 6,
      "outputs": [
        {
          "output_type": "stream",
          "name": "stdout",
          "text": [
            "Training set size: (325, 6)\n",
            "Testing set size: (82, 6)\n"
          ]
        }
      ]
    },
    {
      "cell_type": "code",
      "source": [
        "# Step 6: Initialize the SVM model\n",
        "kernel_type = 'linear'  # Options: 'linear', 'poly', 'rbf', 'sigmoid'\n",
        "svm_model = SVC(kernel=kernel_type, random_state=42)\n",
        "print(f\"Initialized SVM with '{kernel_type}' kernel.\")"
      ],
      "metadata": {
        "colab": {
          "base_uri": "https://localhost:8080/"
        },
        "id": "_QHbcNnPxTKz",
        "outputId": "3f0b9e92-76fc-4282-b8d3-e4ff53736bd3"
      },
      "execution_count": 7,
      "outputs": [
        {
          "output_type": "stream",
          "name": "stdout",
          "text": [
            "Initialized SVM with 'linear' kernel.\n"
          ]
        }
      ]
    },
    {
      "cell_type": "code",
      "source": [
        "# Step 7: Train the SVM model\n",
        "svm_model.fit(X_train, y_train)\n",
        "print(\"SVM model trained successfully.\")"
      ],
      "metadata": {
        "colab": {
          "base_uri": "https://localhost:8080/"
        },
        "id": "2pFG1F4AxXkQ",
        "outputId": "e50f0209-8aa8-40db-94f7-5d2b788c53fb"
      },
      "execution_count": 8,
      "outputs": [
        {
          "output_type": "stream",
          "name": "stdout",
          "text": [
            "SVM model trained successfully.\n"
          ]
        }
      ]
    },
    {
      "cell_type": "code",
      "source": [
        "# Step 8: Make predictions on the test set\n",
        "y_pred = svm_model.predict(X_test)\n",
        "print(\"Predictions made on the test set.\")"
      ],
      "metadata": {
        "colab": {
          "base_uri": "https://localhost:8080/"
        },
        "id": "UiYrpYDBxeRH",
        "outputId": "deb9617a-8b21-4c29-d83c-b99c6fcf1398"
      },
      "execution_count": 9,
      "outputs": [
        {
          "output_type": "stream",
          "name": "stdout",
          "text": [
            "Predictions made on the test set.\n"
          ]
        }
      ]
    },
    {
      "cell_type": "code",
      "source": [
        "# Step 9: Evaluate the SVM model\n",
        "accuracy = accuracy_score(y_test, y_pred)\n",
        "print(f\"\\nSVM Model Accuracy: {accuracy:.2f}\")"
      ],
      "metadata": {
        "colab": {
          "base_uri": "https://localhost:8080/"
        },
        "id": "THPlOMScySvU",
        "outputId": "dc143c7d-5ad2-4cef-d167-e4e9cf2b45fd"
      },
      "execution_count": 10,
      "outputs": [
        {
          "output_type": "stream",
          "name": "stdout",
          "text": [
            "\n",
            "SVM Model Accuracy: 0.89\n"
          ]
        }
      ]
    },
    {
      "cell_type": "code",
      "source": [
        "# Step 10: Display the classification report\n",
        "print(\"\\nClassification Report for SVM:\")\n",
        "print(classification_report(y_test, y_pred))"
      ],
      "metadata": {
        "colab": {
          "base_uri": "https://localhost:8080/"
        },
        "id": "68csMw7_zLG6",
        "outputId": "8ab11584-353f-4423-8d09-c76cc610a5ac"
      },
      "execution_count": 11,
      "outputs": [
        {
          "output_type": "stream",
          "name": "stdout",
          "text": [
            "\n",
            "Classification Report for SVM:\n",
            "              precision    recall  f1-score   support\n",
            "\n",
            "           1       0.80      1.00      0.89         4\n",
            "           2       1.00      1.00      1.00         7\n",
            "           3       1.00      0.80      0.89         5\n",
            "           4       1.00      0.88      0.93         8\n",
            "           5       0.60      0.75      0.67         4\n",
            "           6       1.00      1.00      1.00         4\n",
            "           7       1.00      1.00      1.00         7\n",
            "           8       1.00      0.25      0.40         4\n",
            "           9       1.00      1.00      1.00         4\n",
            "          10       0.75      1.00      0.86         3\n",
            "          11       1.00      1.00      1.00         3\n",
            "          12       1.00      1.00      1.00         5\n",
            "          13       1.00      1.00      1.00         4\n",
            "          14       1.00      1.00      1.00         4\n",
            "          15       0.75      0.60      0.67         5\n",
            "          16       1.00      1.00      1.00         2\n",
            "          17       0.71      1.00      0.83         5\n",
            "          18       0.60      0.75      0.67         4\n",
            "\n",
            "    accuracy                           0.89        82\n",
            "   macro avg       0.90      0.89      0.88        82\n",
            "weighted avg       0.91      0.89      0.88        82\n",
            "\n"
          ]
        }
      ]
    },
    {
      "cell_type": "code",
      "source": [
        "# Step 11: Plot the confusion matrix\n",
        "conf_matrix = confusion_matrix(y_test, y_pred)\n",
        "plt.figure(figsize=(8, 6))\n",
        "sns.heatmap(conf_matrix, annot=True, fmt='d', cmap='Blues', cbar=False)\n",
        "plt.title(\"Confusion Matrix for SVM\")\n",
        "plt.xlabel(\"Predicted\")\n",
        "plt.ylabel(\"Actual\")\n",
        "plt.show()"
      ],
      "metadata": {
        "colab": {
          "base_uri": "https://localhost:8080/",
          "height": 564
        },
        "id": "BM1tpXc0zPrH",
        "outputId": "be0c03b1-5c65-4e7d-81c6-6e16b16324f2"
      },
      "execution_count": 12,
      "outputs": [
        {
          "output_type": "display_data",
          "data": {
            "text/plain": [
              "<Figure size 800x600 with 1 Axes>"
            ],
            "image/png": "[encoded data removed]"
          },
          "metadata": {}
        }
      ]
    },
    {
      "cell_type": "code",
      "source": [
        "# Step 12: Hyperparameter Tuning (Optional)\n",
        "# Experiment with different kernel types and C values\n",
        "kernel_options = ['linear', 'poly', 'rbf', 'sigmoid']\n",
        "C_values = [0.1, 1, 10]\n",
        "best_accuracy = 0\n",
        "best_params = {}\n",
        "\n",
        "print(\"\\nTuning SVM hyperparameters...\")\n",
        "for kernel in kernel_options:\n",
        "    for C in C_values:\n",
        "        temp_model = SVC(kernel=kernel, C=C, random_state=42)\n",
        "        temp_model.fit(X_train, y_train)\n",
        "        temp_pred = temp_model.predict(X_test)\n",
        "        temp_accuracy = accuracy_score(y_test, temp_pred)\n",
        "        print(f\"Kernel: {kernel}, C: {C}, Accuracy: {temp_accuracy:.2f}\")\n",
        "        if temp_accuracy > best_accuracy:\n",
        "            best_accuracy = temp_accuracy\n",
        "            best_params = {'kernel': kernel, 'C': C}\n",
        "\n",
        "print(f\"\\nBest Parameters: {best_params}, Best Accuracy: {best_accuracy:.2f}\")"
      ],
      "metadata": {
        "colab": {
          "base_uri": "https://localhost:8080/"
        },
        "id": "AcQJkyhYzUaf",
        "outputId": "494a2b8c-ae91-4f7e-a996-b8fe856fc27d"
      },
      "execution_count": 13,
      "outputs": [
        {
          "output_type": "stream",
          "name": "stdout",
          "text": [
            "\n",
            "Tuning SVM hyperparameters...\n",
            "Kernel: linear, C: 0.1, Accuracy: 0.87\n",
            "Kernel: linear, C: 1, Accuracy: 0.89\n",
            "Kernel: linear, C: 10, Accuracy: 0.88\n",
            "Kernel: poly, C: 0.1, Accuracy: 0.48\n",
            "Kernel: poly, C: 1, Accuracy: 0.73\n",
            "Kernel: poly, C: 10, Accuracy: 0.87\n",
            "Kernel: rbf, C: 0.1, Accuracy: 0.52\n",
            "Kernel: rbf, C: 1, Accuracy: 0.83\n",
            "Kernel: rbf, C: 10, Accuracy: 0.89\n",
            "Kernel: sigmoid, C: 0.1, Accuracy: 0.30\n",
            "Kernel: sigmoid, C: 1, Accuracy: 0.76\n",
            "Kernel: sigmoid, C: 10, Accuracy: 0.85\n",
            "\n",
            "Best Parameters: {'kernel': 'linear', 'C': 1}, Best Accuracy: 0.89\n"
          ]
        }
      ]
    }
  ]
}