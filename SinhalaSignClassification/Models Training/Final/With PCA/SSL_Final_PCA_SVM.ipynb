{
  "nbformat": 4,
  "nbformat_minor": 0,
  "metadata": {
    "colab": {
      "provenance": []
    },
    "kernelspec": {
      "name": "python3",
      "display_name": "Python 3"
    },
    "language_info": {
      "name": "python"
    }
  },
  "cells": [
    {
      "cell_type": "code",
      "execution_count": 1,
      "metadata": {
        "id": "LZPTscmtnpiP"
      },
      "outputs": [],
      "source": [
        "# Import necessary libraries\n",
        "import pandas as pd\n",
        "import numpy as np\n",
        "from sklearn.svm import SVC\n",
        "from sklearn.model_selection import train_test_split\n",
        "from sklearn.metrics import accuracy_score, classification_report, confusion_matrix\n",
        "import matplotlib.pyplot as plt\n",
        "import seaborn as sns"
      ]
    },
    {
      "cell_type": "code",
      "source": [
        "# Step 1: Load the dataset\n",
        "file_path = '/content/pca_result_95variance_11components.csv'  # Replace with the path to your dataset\n",
        "data = pd.read_csv(file_path)"
      ],
      "metadata": {
        "id": "NEVZVu-Wwu1_"
      },
      "execution_count": 2,
      "outputs": []
    },
    {
      "cell_type": "code",
      "source": [
        "# Step 2: Display the first few rows of the dataset\n",
        "print(\"First few rows of the dataset:\")\n",
        "print(data.head())"
      ],
      "metadata": {
        "colab": {
          "base_uri": "https://localhost:8080/"
        },
        "id": "rlo_neaZw_Mx",
        "outputId": "ab5cea9c-c7a6-48a9-994b-b04efe2ec444"
      },
      "execution_count": 3,
      "outputs": [
        {
          "output_type": "stream",
          "name": "stdout",
          "text": [
            "First few rows of the dataset:\n",
            "        PC1       PC2       PC3       PC4       PC5       PC6       PC7  \\\n",
            "0  3.270624  0.006484  0.931207  0.194497 -0.548759  0.164637 -1.213615   \n",
            "1  3.555514 -0.304125  0.553428  0.477325 -0.244402 -0.612696 -0.606465   \n",
            "2  3.053840  0.868990  0.951313  1.138860 -0.126610  0.597600 -2.242476   \n",
            "3  3.536385 -0.631844  0.272864  0.404124 -0.457440 -0.989644  0.099945   \n",
            "4  4.052061 -0.027087  1.362121 -0.401166 -0.727371  0.015877 -0.785044   \n",
            "\n",
            "        PC8       PC9      PC10      PC11  LABEL  \n",
            "0 -0.407367 -0.329040  0.088107 -0.600684      1  \n",
            "1  0.037900 -0.070477 -0.151906  0.293247      1  \n",
            "2 -0.033443 -0.434816  0.085929  0.200889      1  \n",
            "3 -0.032871 -0.198402 -0.140390  0.452599      1  \n",
            "4 -1.320280 -0.249229  0.179810 -1.045662      1  \n"
          ]
        }
      ]
    },
    {
      "cell_type": "code",
      "source": [
        "# Step 3: Check for missing values\n",
        "if data.isnull().sum().sum() > 0:\n",
        "    print(\"Missing values detected. Filling with mean values...\")\n",
        "    data.fillna(data.mean(), inplace=True)\n",
        "else:\n",
        "    print(\"No missing values detected.\")\n",
        "\n",
        "# Step 4: Separate features and labels\n",
        "if 'LABEL' in data.columns:\n",
        "    features = data.drop(columns=['LABEL'])  # Dropping the label column\n",
        "    labels = data['LABEL']\n",
        "    print(\"Features and labels separated successfully.\")\n",
        "else:\n",
        "    raise KeyError(\"'label' column not found in the dataset. Please ensure the dataset contains a 'label' column.\")"
      ],
      "metadata": {
        "colab": {
          "base_uri": "https://localhost:8080/"
        },
        "id": "m_n_3-DtxCaA",
        "outputId": "3cedad57-82c8-4987-c8c2-97726cc01470"
      },
      "execution_count": 5,
      "outputs": [
        {
          "output_type": "stream",
          "name": "stdout",
          "text": [
            "No missing values detected.\n",
            "Features and labels separated successfully.\n"
          ]
        }
      ]
    },
    {
      "cell_type": "code",
      "source": [
        "# Step 5: Split the dataset into training and testing sets\n",
        "X_train, X_test, y_train, y_test = train_test_split(features, labels, test_size=0.2, random_state=42)\n",
        "print(f\"Training set size: {X_train.shape}\")\n",
        "print(f\"Testing set size: {X_test.shape}\")"
      ],
      "metadata": {
        "colab": {
          "base_uri": "https://localhost:8080/"
        },
        "id": "UVwuHwhXxPb2",
        "outputId": "16772ba9-82d1-44c0-c315-cb21b2312d90"
      },
      "execution_count": 6,
      "outputs": [
        {
          "output_type": "stream",
          "name": "stdout",
          "text": [
            "Training set size: (325, 11)\n",
            "Testing set size: (82, 11)\n"
          ]
        }
      ]
    },
    {
      "cell_type": "code",
      "source": [
        "# Step 6: Initialize the SVM model\n",
        "kernel_type = 'rbf'  # Options: 'linear', 'poly', 'rbf', 'sigmoid'\n",
        "svm_model = SVC(kernel=kernel_type, random_state=42)\n",
        "print(f\"Initialized SVM with '{kernel_type}' kernel.\")"
      ],
      "metadata": {
        "colab": {
          "base_uri": "https://localhost:8080/"
        },
        "id": "_QHbcNnPxTKz",
        "outputId": "041d0eea-5678-454a-f204-28258ec16a7f"
      },
      "execution_count": 7,
      "outputs": [
        {
          "output_type": "stream",
          "name": "stdout",
          "text": [
            "Initialized SVM with 'rbf' kernel.\n"
          ]
        }
      ]
    },
    {
      "cell_type": "code",
      "source": [
        "# Step 7: Train the SVM model\n",
        "svm_model.fit(X_train, y_train)\n",
        "print(\"SVM model trained successfully.\")"
      ],
      "metadata": {
        "colab": {
          "base_uri": "https://localhost:8080/"
        },
        "id": "2pFG1F4AxXkQ",
        "outputId": "91dd329c-e635-443f-e59f-3204d7581e54"
      },
      "execution_count": 8,
      "outputs": [
        {
          "output_type": "stream",
          "name": "stdout",
          "text": [
            "SVM model trained successfully.\n"
          ]
        }
      ]
    },
    {
      "cell_type": "code",
      "source": [
        "# Step 8: Make predictions on the test set\n",
        "y_pred = svm_model.predict(X_test)\n",
        "print(\"Predictions made on the test set.\")"
      ],
      "metadata": {
        "colab": {
          "base_uri": "https://localhost:8080/"
        },
        "id": "UiYrpYDBxeRH",
        "outputId": "1b718c84-10cf-4d04-f7b8-c1ce8d4d055c"
      },
      "execution_count": 9,
      "outputs": [
        {
          "output_type": "stream",
          "name": "stdout",
          "text": [
            "Predictions made on the test set.\n"
          ]
        }
      ]
    },
    {
      "cell_type": "code",
      "source": [
        "# Step 9: Evaluate the SVM model\n",
        "accuracy = accuracy_score(y_test, y_pred)\n",
        "print(f\"\\nSVM Model Accuracy: {accuracy:.2f}\")"
      ],
      "metadata": {
        "colab": {
          "base_uri": "https://localhost:8080/"
        },
        "id": "THPlOMScySvU",
        "outputId": "f096c5e4-5581-48b2-f5e0-3cc2f9078d05"
      },
      "execution_count": 10,
      "outputs": [
        {
          "output_type": "stream",
          "name": "stdout",
          "text": [
            "\n",
            "SVM Model Accuracy: 0.90\n"
          ]
        }
      ]
    },
    {
      "cell_type": "code",
      "source": [
        "# Step 10: Display the classification report\n",
        "print(\"\\nClassification Report for SVM:\")\n",
        "print(classification_report(y_test, y_pred))"
      ],
      "metadata": {
        "colab": {
          "base_uri": "https://localhost:8080/"
        },
        "id": "68csMw7_zLG6",
        "outputId": "f7a585df-c19b-49d6-ee7b-27a5b9a57cd9"
      },
      "execution_count": 11,
      "outputs": [
        {
          "output_type": "stream",
          "name": "stdout",
          "text": [
            "\n",
            "Classification Report for SVM:\n",
            "              precision    recall  f1-score   support\n",
            "\n",
            "           1       0.80      1.00      0.89         4\n",
            "           2       1.00      1.00      1.00         7\n",
            "           3       0.71      1.00      0.83         5\n",
            "           4       1.00      1.00      1.00         8\n",
            "           5       1.00      0.75      0.86         4\n",
            "           6       1.00      0.75      0.86         4\n",
            "           7       1.00      1.00      1.00         7\n",
            "           8       0.75      0.75      0.75         4\n",
            "           9       1.00      1.00      1.00         4\n",
            "          10       1.00      1.00      1.00         3\n",
            "          11       0.75      1.00      0.86         3\n",
            "          12       1.00      0.80      0.89         5\n",
            "          13       1.00      0.75      0.86         4\n",
            "          14       1.00      1.00      1.00         4\n",
            "          15       1.00      0.80      0.89         5\n",
            "          16       0.50      1.00      0.67         2\n",
            "          17       1.00      0.60      0.75         5\n",
            "          18       0.80      1.00      0.89         4\n",
            "\n",
            "    accuracy                           0.90        82\n",
            "   macro avg       0.91      0.90      0.89        82\n",
            "weighted avg       0.93      0.90      0.90        82\n",
            "\n"
          ]
        }
      ]
    },
    {
      "cell_type": "code",
      "source": [
        "# Step 11: Plot the confusion matrix\n",
        "conf_matrix = confusion_matrix(y_test, y_pred)\n",
        "plt.figure(figsize=(8, 6))\n",
        "sns.heatmap(conf_matrix, annot=True, fmt='d', cmap='Blues', cbar=False)\n",
        "plt.title(\"Confusion Matrix for SVM\")\n",
        "plt.xlabel(\"Predicted\")\n",
        "plt.ylabel(\"Actual\")\n",
        "plt.show()"
      ],
      "metadata": {
        "colab": {
          "base_uri": "https://localhost:8080/",
          "height": 564
        },
        "id": "BM1tpXc0zPrH",
        "outputId": "a5beb2f9-0b50-4bb5-92d9-b85685c13830"
      },
      "execution_count": 12,
      "outputs": [
        {
          "output_type": "display_data",
          "data": {
            "text/plain": [
              "<Figure size 800x600 with 1 Axes>"
            ],
            "image/png": "[encoded data removed]"
          },
          "metadata": {}
        }
      ]
    },
    {
      "cell_type": "code",
      "source": [
        "# Step 12: Hyperparameter Tuning (Optional)\n",
        "# Experiment with different kernel types and C values\n",
        "kernel_options = ['linear', 'poly', 'rbf', 'sigmoid']\n",
        "C_values = [0.1, 1, 10]\n",
        "best_accuracy = 0\n",
        "best_params = {}\n",
        "\n",
        "print(\"\\nTuning SVM hyperparameters...\")\n",
        "for kernel in kernel_options:\n",
        "    for C in C_values:\n",
        "        temp_model = SVC(kernel=kernel, C=C, random_state=42)\n",
        "        temp_model.fit(X_train, y_train)\n",
        "        temp_pred = temp_model.predict(X_test)\n",
        "        temp_accuracy = accuracy_score(y_test, temp_pred)\n",
        "        print(f\"Kernel: {kernel}, C: {C}, Accuracy: {temp_accuracy:.2f}\")\n",
        "        if temp_accuracy > best_accuracy:\n",
        "            best_accuracy = temp_accuracy\n",
        "            best_params = {'kernel': kernel, 'C': C}\n",
        "\n",
        "print(f\"\\nBest Parameters: {best_params}, Best Accuracy: {best_accuracy:.2f}\")"
      ],
      "metadata": {
        "colab": {
          "base_uri": "https://localhost:8080/"
        },
        "id": "AcQJkyhYzUaf",
        "outputId": "5439496e-ce85-457b-fcb5-7a9701a15b9b"
      },
      "execution_count": 14,
      "outputs": [
        {
          "output_type": "stream",
          "name": "stdout",
          "text": [
            "\n",
            "Tuning SVM hyperparameters...\n",
            "Kernel: linear, C: 0.1, Accuracy: 0.89\n",
            "Kernel: linear, C: 1, Accuracy: 0.89\n",
            "Kernel: linear, C: 10, Accuracy: 0.88\n",
            "Kernel: poly, C: 0.1, Accuracy: 0.41\n",
            "Kernel: poly, C: 1, Accuracy: 0.71\n",
            "Kernel: poly, C: 10, Accuracy: 0.84\n",
            "Kernel: rbf, C: 0.1, Accuracy: 0.45\n",
            "Kernel: rbf, C: 1, Accuracy: 0.90\n",
            "Kernel: rbf, C: 10, Accuracy: 0.90\n",
            "Kernel: sigmoid, C: 0.1, Accuracy: 0.32\n",
            "Kernel: sigmoid, C: 1, Accuracy: 0.80\n",
            "Kernel: sigmoid, C: 10, Accuracy: 0.76\n",
            "\n",
            "Best Parameters: {'kernel': 'rbf', 'C': 1}, Best Accuracy: 0.90\n"
          ]
        }
      ]
    }
  ]
}