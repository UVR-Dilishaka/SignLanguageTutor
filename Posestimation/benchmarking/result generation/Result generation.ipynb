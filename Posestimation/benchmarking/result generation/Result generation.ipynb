{
 "cells": [
  {
   "cell_type": "code",
   "execution_count": 1,
   "id": "23cace45-9c85-4c6b-989d-0cc92624c40c",
   "metadata": {},
   "outputs": [],
   "source": [
    "import ast\n",
    "import numpy as np"
   ]
  },
  {
   "cell_type": "code",
   "execution_count": 2,
   "id": "103a3da8-26a1-4051-b037-45d65ec0f1ee",
   "metadata": {},
   "outputs": [],
   "source": [
    "import pandas as pd\n",
    "pd.set_option('display.max_columns',100)"
   ]
  },
  {
   "cell_type": "markdown",
   "id": "09ed8375-d0bf-4247-9444-8ca355d7277c",
   "metadata": {},
   "source": [
    "### MAE for gt and mp"
   ]
  },
  {
   "cell_type": "code",
   "execution_count": 19,
   "id": "a17cf0ff-15a2-425d-af17-dc983848b7e9",
   "metadata": {},
   "outputs": [
    {
     "data": {
      "text/plain": [
       "np.float64(7.154449403557809)"
      ]
     },
     "execution_count": 19,
     "metadata": {},
     "output_type": "execute_result"
    }
   ],
   "source": [
    "mp_df = pd.read_csv('mp_final_dataset.csv')\n",
    "gt_df = pd.read_csv('gt_final_dataset.csv')\n",
    "\n",
    "error_sum = 0\n",
    "\n",
    "for i in range(len(mp_df)):\n",
    "    for j in range(0,21):\n",
    "        mp_coord = ast.literal_eval(mp_df.loc[i,str(j)])\n",
    "        gt_coord = ast.literal_eval(gt_df.loc[i,str(j)])\n",
    "        error = np.sqrt(((mp_coord[0] - gt_coord[0])**2) + ((mp_coord[1] - gt_coord[1])**2))\n",
    "        error_sum += error\n",
    "\n",
    "mae = error_sum / (len(mp_df) * 21)\n",
    "mae"
   ]
  },
  {
   "cell_type": "code",
   "execution_count": null,
   "id": "f8fe3973-1b1d-4314-bfb0-1a838e60b826",
   "metadata": {},
   "outputs": [],
   "source": []
  },
  {
   "cell_type": "code",
   "execution_count": null,
   "id": "b0a2b5cb-185f-43e8-b6f4-e73cbd0b6d0e",
   "metadata": {},
   "outputs": [],
   "source": []
  },
  {
   "cell_type": "markdown",
   "id": "9ab6dcc2-e272-417a-8a6c-973a0e368821",
   "metadata": {},
   "source": [
    "### MAE for gt and op"
   ]
  },
  {
   "cell_type": "code",
   "execution_count": 20,
   "id": "1e177de0-2c7c-4cc9-8ca6-f8e117d8aa9b",
   "metadata": {},
   "outputs": [
    {
     "data": {
      "text/plain": [
       "np.float64(6.880005601335612)"
      ]
     },
     "execution_count": 20,
     "metadata": {},
     "output_type": "execute_result"
    }
   ],
   "source": [
    "op_df = pd.read_csv('op_final_dataset.csv')\n",
    "gt_df = pd.read_csv('gt_final_dataset.csv')\n",
    "\n",
    "error_sum = 0\n",
    "\n",
    "for i in range(len(op_df)):\n",
    "    for j in range(0,21):\n",
    "        op_coord = ast.literal_eval(op_df.loc[i,str(j)])\n",
    "        gt_coord = ast.literal_eval(gt_df.loc[i,str(j)])\n",
    "        error = np.sqrt(((op_coord[0] - gt_coord[0])**2) + ((op_coord[1] - gt_coord[1])**2))\n",
    "        error_sum += error\n",
    "\n",
    "mae = error_sum / (len(op_df) * 21)\n",
    "mae"
   ]
  },
  {
   "cell_type": "code",
   "execution_count": null,
   "id": "59049e5d-4801-456c-be1a-9bef4abd20a0",
   "metadata": {},
   "outputs": [],
   "source": []
  },
  {
   "cell_type": "markdown",
   "id": "5c79b31b-bce8-4cad-a9ee-600d5c6bfe7b",
   "metadata": {},
   "source": [
    "### MNAE for gt and mp"
   ]
  },
  {
   "cell_type": "code",
   "execution_count": 21,
   "id": "119efb57-05bd-4030-99af-ee7a1d8262ac",
   "metadata": {},
   "outputs": [
    {
     "data": {
      "text/plain": [
       "np.float64(0.1688192626817454)"
      ]
     },
     "execution_count": 21,
     "metadata": {},
     "output_type": "execute_result"
    }
   ],
   "source": [
    "mp_df = pd.read_csv('mp_final_dataset.csv')\n",
    "gt_df = pd.read_csv('gt_final_dataset.csv')\n",
    "\n",
    "error_sum = 0\n",
    "\n",
    "for i in range(len(mp_df)):\n",
    "    wrist = ast.literal_eval(gt_df.loc[i,'0'])\n",
    "    m_mcp = ast.literal_eval(gt_df.loc[i,'9'])\n",
    "    palm_size = np.sqrt((wrist[0]-m_mcp[0])**2 + (wrist[1]-m_mcp[1])**2)\n",
    "    for j in range(0,21):\n",
    "        mp_coord = ast.literal_eval(mp_df.loc[i,str(j)])\n",
    "        gt_coord = ast.literal_eval(gt_df.loc[i,str(j)])\n",
    "        error = np.sqrt(((mp_coord[0] - gt_coord[0])**2) + ((mp_coord[1] - gt_coord[1])**2)) / palm_size\n",
    "        error_sum += error\n",
    "\n",
    "mnae = error_sum / (len(mp_df) * 21)\n",
    "mnae"
   ]
  },
  {
   "cell_type": "code",
   "execution_count": null,
   "id": "0488aa8f-5e74-4ae3-8e1d-0a43682deb7c",
   "metadata": {},
   "outputs": [],
   "source": []
  },
  {
   "cell_type": "markdown",
   "id": "c9251107-c657-4bac-bcbc-1610703fd5dc",
   "metadata": {},
   "source": [
    "### MNAE for gt and op"
   ]
  },
  {
   "cell_type": "code",
   "execution_count": 22,
   "id": "a4f04598-3455-419e-bd0f-b51365ef19e0",
   "metadata": {},
   "outputs": [
    {
     "data": {
      "text/plain": [
       "np.float64(0.15398492327817997)"
      ]
     },
     "execution_count": 22,
     "metadata": {},
     "output_type": "execute_result"
    }
   ],
   "source": [
    "op_df = pd.read_csv('op_final_dataset.csv')\n",
    "gt_df = pd.read_csv('gt_final_dataset.csv')\n",
    "\n",
    "error_sum = 0\n",
    "\n",
    "for i in range(len(op_df)):\n",
    "    wrist = ast.literal_eval(gt_df.loc[i,'0'])\n",
    "    m_mcp = ast.literal_eval(gt_df.loc[i,'9'])\n",
    "    palm_size = np.sqrt((wrist[0]-m_mcp[0])**2 + (wrist[1]-m_mcp[1])**2)\n",
    "    for j in range(0,21):\n",
    "        op_coord = ast.literal_eval(op_df.loc[i,str(j)])\n",
    "        gt_coord = ast.literal_eval(gt_df.loc[i,str(j)])\n",
    "        error = np.sqrt(((op_coord[0] - gt_coord[0])**2) + ((op_coord[1] - gt_coord[1])**2)) / palm_size\n",
    "        error_sum += error\n",
    "\n",
    "mnae = error_sum / (len(op_df) * 21)\n",
    "mnae"
   ]
  },
  {
   "cell_type": "code",
   "execution_count": null,
   "id": "8a15314d-b435-45dc-afec-4b35a9c36043",
   "metadata": {},
   "outputs": [],
   "source": []
  }
 ],
 "metadata": {
  "kernelspec": {
   "display_name": "Python 3 (ipykernel)",
   "language": "python",
   "name": "python3"
  },
  "language_info": {
   "codemirror_mode": {
    "name": "ipython",
    "version": 3
   },
   "file_extension": ".py",
   "mimetype": "text/x-python",
   "name": "python",
   "nbconvert_exporter": "python",
   "pygments_lexer": "ipython3",
   "version": "3.12.7"
  }
 },
 "nbformat": 4,
 "nbformat_minor": 5
}
