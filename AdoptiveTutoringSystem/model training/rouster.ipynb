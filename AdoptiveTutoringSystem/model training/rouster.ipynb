{
 "cells": [
  {
   "cell_type": "code",
   "execution_count": 16,
   "metadata": {},
   "outputs": [],
   "source": [
    "import pandas as pd\n",
    "import numpy as np\n",
    "import matplotlib.pyplot as plt\n",
    "import seaborn as sns\n",
    "from sklearn.model_selection import train_test_split\n",
    "import pickle\n",
    "\n",
    "from pyBKT.models import *"
   ]
  },
  {
   "cell_type": "code",
   "execution_count": 10,
   "metadata": {},
   "outputs": [],
   "source": [
    "model = Model()\n",
    "model.fit(data_path = 'ct.csv')\n",
    "roster = Roster(students = ['Jeff', 'Bob'], skills = 'Plot whole number', model = model)"
   ]
  },
  {
   "cell_type": "code",
   "execution_count": 11,
   "metadata": {},
   "outputs": [
    {
     "name": "stdout",
     "output_type": "stream",
     "text": [
      "Jeff's mastery (t = 0): StateType.UNMASTERED\n",
      "Jeff's probability of mastery (t = 0): 0.7276355443260819\n"
     ]
    }
   ],
   "source": [
    "print(\"Jeff's mastery (t = 0):\", roster.get_state_type('Plot whole number', 'Jeff'))\n",
    "print(\"Jeff's probability of mastery (t = 0):\", roster.get_mastery_prob('Plot whole number', 'Jeff'))"
   ]
  },
  {
   "cell_type": "code",
   "execution_count": 12,
   "metadata": {},
   "outputs": [
    {
     "name": "stdout",
     "output_type": "stream",
     "text": [
      "Jeff's mastery (t = 1): StateType.UNMASTERED\n",
      "Jeff's probability of mastery (t = 1): 0.8605144620788004\n"
     ]
    }
   ],
   "source": [
    "\n",
    "jeff_new_state = roster.update_state('Plot whole number', 'Jeff', 1)\n",
    "\n",
    "\n",
    "print(\"Jeff's mastery (t = 1):\", roster.get_state_type('Plot whole number', 'Jeff'))\n",
    "print(\"Jeff's probability of mastery (t = 1):\", roster.get_mastery_prob('Plot whole number', 'Jeff'))"
   ]
  },
  {
   "cell_type": "code",
   "execution_count": 13,
   "metadata": {},
   "outputs": [
    {
     "name": "stdout",
     "output_type": "stream",
     "text": [
      "Jeff's mastery (t = 1): StateType.UNMASTERED\n",
      "Jeff's probability of mastery (t = 1): 0.9311485035770745\n"
     ]
    }
   ],
   "source": [
    "\n",
    "jeff_new_state = roster.update_state('Plot whole number', 'Jeff', 1)\n",
    "\n",
    "\n",
    "print(\"Jeff's mastery (t = 1):\", roster.get_state_type('Plot whole number', 'Jeff'))\n",
    "print(\"Jeff's probability of mastery (t = 1):\", roster.get_mastery_prob('Plot whole number', 'Jeff'))"
   ]
  },
  {
   "cell_type": "code",
   "execution_count": 14,
   "metadata": {},
   "outputs": [
    {
     "name": "stdout",
     "output_type": "stream",
     "text": [
      "Jeff's mastery (t = 1): StateType.UNMASTERED\n",
      "Jeff's probability of mastery (t = 1): 0.7634878534043066\n"
     ]
    }
   ],
   "source": [
    "\n",
    "jeff_new_state = roster.update_state('Plot whole number', 'Jeff', 0)\n",
    "\n",
    "\n",
    "print(\"Jeff's mastery (t = 1):\", roster.get_state_type('Plot whole number', 'Jeff'))\n",
    "print(\"Jeff's probability of mastery (t = 1):\", roster.get_mastery_prob('Plot whole number', 'Jeff'))"
   ]
  },
  {
   "cell_type": "code",
   "execution_count": null,
   "metadata": {},
   "outputs": [],
   "source": []
  },
  {
   "cell_type": "markdown",
   "metadata": {},
   "source": [
    "extract the rouster model"
   ]
  },
  {
   "cell_type": "code",
   "execution_count": 17,
   "metadata": {},
   "outputs": [],
   "source": [
    "with open('pybkt_model.pkl', 'wb') as file:\n",
    "    pickle.dump(roster, file)"
   ]
  }
 ],
 "metadata": {
  "kernelspec": {
   "display_name": "env",
   "language": "python",
   "name": "python3"
  },
  "language_info": {
   "codemirror_mode": {
    "name": "ipython",
    "version": 3
   },
   "file_extension": ".py",
   "mimetype": "text/x-python",
   "name": "python",
   "nbconvert_exporter": "python",
   "pygments_lexer": "ipython3",
   "version": "3.11.11"
  }
 },
 "nbformat": 4,
 "nbformat_minor": 2
}
