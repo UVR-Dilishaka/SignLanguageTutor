{
 "cells": [
  {
   "cell_type": "code",
   "execution_count": 2,
   "metadata": {},
   "outputs": [],
   "source": [
    "import numpy as np\n",
    "import pandas as pd\n",
    "\n",
    "# Define constants\n",
    "num_students = 25\n",
    "num_attempts = 15  # Each student makes 15 attempts per sign\n",
    "max_time = 5000  # Max time in milliseconds\n",
    "\n",
    "# Define signs (skills)\n",
    "tamil_letters = {\n",
    "    1: \"அ\", 2: \"ஆ\", 3: \"இ\", 4: \"ஈ\", 5: \"உ\",\n",
    "    6: \"ஊ\", 7: \"எ\", 8: \"ஏ\", 9: \"ஐ\", 10: \"ஒ\",\n",
    "    11: \"ஓ\", 12: \"ஔ\"\n",
    "}\n",
    "\n",
    "sinhala_letters = {\n",
    "    13: \"අ\", 14: \"ආ\", 15: \"ඇ\", 16: \"ඉ\", 17: \"උ\", \n",
    "    18: \"එ\", 19: \"ග\", 20: \"ව\", 21: \"ඩ\", 22: \"ද\", \n",
    "    23: \"ය\", 24: \"හ\"\n",
    "}\n",
    "\n",
    "signs = list(tamil_letters.keys()) + list(sinhala_letters.keys())\n",
    "\n",
    "# Generate data\n",
    "data = []\n",
    "\n",
    "for student_id in range(1, num_students + 1):\n",
    "    for sign_id in signs:\n",
    "        for opportunity in range(1, num_attempts + 1):\n",
    "            # Simulate correctness using a logistic function (more 0s at start, more 1s later)\n",
    "            p_correct = 1 / (1 + np.exp(-0.5 * (opportunity - 7)))  # Sigmoid function\n",
    "            correctness = np.random.choice([0, 1], p=[1 - p_correct, p_correct])\n",
    "\n",
    "            # Simulate time taken (higher time for early incorrect attempts, lower for correct ones)\n",
    "            if correctness == 1:\n",
    "                time_taken = np.random.randint(500, 2500)  # Faster responses for correct\n",
    "            else:\n",
    "                time_taken = np.random.randint(2500, max_time)  # Slower for incorrect\n",
    "\n",
    "            data.append([student_id, sign_id, opportunity, correctness, time_taken])\n",
    "\n",
    "# Convert to DataFrame\n",
    "df = pd.DataFrame(data, columns=[\"Student ID\", \"Skill ID\", \"Opportunity Count\", \"Correctness\", \"TimesTaken\"])\n",
    "df.head()\n",
    "df.to_csv(\"data.csv\", index=False)\n"
   ]
  },
  {
   "cell_type": "code",
   "execution_count": 3,
   "metadata": {},
   "outputs": [],
   "source": [
    "# Adjust time taken for incorrect attempts to be exactly 5000ms\n",
    "df.loc[df[\"Correctness\"] == 0, \"TimesTaken\"] = 5000\n",
    "\n",
    "# Verify the changes\n",
    "df.head()\n",
    "df.to_csv(\"data.csv\", index=False)\n"
   ]
  }
 ],
 "metadata": {
  "kernelspec": {
   "display_name": "env",
   "language": "python",
   "name": "python3"
  },
  "language_info": {
   "codemirror_mode": {
    "name": "ipython",
    "version": 3
   },
   "file_extension": ".py",
   "mimetype": "text/x-python",
   "name": "python",
   "nbconvert_exporter": "python",
   "pygments_lexer": "ipython3",
   "version": "3.11.11"
  }
 },
 "nbformat": 4,
 "nbformat_minor": 2
}
