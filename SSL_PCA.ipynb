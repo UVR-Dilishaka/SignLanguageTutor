{
  "nbformat": 4,
  "nbformat_minor": 0,
  "metadata": {
    "colab": {
      "provenance": [],
      "authorship_tag": "ABX9TyPlBBrBhzkX/cIy1OGeYdNw",
      "include_colab_link": true
    },
    "kernelspec": {
      "name": "python3",
      "display_name": "Python 3"
    },
    "language_info": {
      "name": "python"
    }
  },
  "cells": [
    {
      "cell_type": "markdown",
      "metadata": {
        "id": "view-in-github",
        "colab_type": "text"
      },
      "source": [
        "<a href=\"https://colab.research.google.com/github/UVR-Dilishaka/SignLanguageTutor/blob/main/SSL_PCA.ipynb\" target=\"_parent\"><img src=\"https://colab.research.google.com/assets/colab-badge.svg\" alt=\"Open In Colab\"/></a>"
      ]
    },
    {
      "cell_type": "code",
      "source": [
        "import pandas as pd\n",
        "import numpy as np\n",
        "from sklearn.decomposition import PCA\n",
        "from sklearn.preprocessing import StandardScaler\n",
        "import matplotlib.pyplot as plt"
      ],
      "metadata": {
        "id": "6wSxUUBBQsGc"
      },
      "execution_count": 15,
      "outputs": []
    },
    {
      "cell_type": "code",
      "source": [
        "# Load the dataset\n",
        "file_path = '/content/SSL.csv'\n",
        "data = pd.read_csv(file_path)"
      ],
      "metadata": {
        "id": "rVxta6wPc5Bq"
      },
      "execution_count": 16,
      "outputs": []
    },
    {
      "cell_type": "code",
      "source": [
        "# Display the first few rows of the dataset to understand its structure\n",
        "print(\"First few rows of the dataset:\")\n",
        "print(data.head())"
      ],
      "metadata": {
        "colab": {
          "base_uri": "https://localhost:8080/"
        },
        "id": "3jBoNOb8dANd",
        "outputId": "309a233f-cb73-46c8-98f3-758c7eeaa4bb"
      },
      "execution_count": 17,
      "outputs": [
        {
          "output_type": "stream",
          "name": "stdout",
          "text": [
            "First few rows of the dataset:\n",
            "   THUMB_MCP_angle  INDEX_MCP_angle  MIDDLE_MCP_angle  RING_MCP_angle  \\\n",
            "0       158.850393       166.191120        171.312416      164.417307   \n",
            "1       179.764919       162.918659        164.688354      158.761507   \n",
            "2       163.686400       156.874601        168.731120      167.597585   \n",
            "3       164.877336       157.923103        168.825020      166.714988   \n",
            "4       162.510311       155.772163        167.382585      167.906615   \n",
            "\n",
            "   PINKY_MCP_angle  INDEX_PIP_angle  MIDDLE_PIP_angle  RING_PIP_angle  \\\n",
            "0       152.776481       166.274985        168.753093      170.136228   \n",
            "1       150.168779       165.712954        165.773444      173.676437   \n",
            "2       155.271677       170.371422        173.189007      178.279313   \n",
            "3       154.694918       171.259425        173.170858      177.966303   \n",
            "4       151.483203       164.876201        167.474186      171.706166   \n",
            "\n",
            "   PINKY_PIP_angle  INDEX_DIP_angle  MIDDLE_DIP_angle  RING_DIP_angle  \\\n",
            "0       170.599224       176.413628        177.270685      174.106248   \n",
            "1       167.715499       174.516440        176.261326      174.139535   \n",
            "2       169.562244       172.920264        175.941362      176.737081   \n",
            "3       169.930017       170.836784        174.907950      175.429250   \n",
            "4       170.330552       172.503782        174.525162      176.182053   \n",
            "\n",
            "   PINKY_DIP_angle  THUMB_TMC_angle  THUMB_IP_angle  \\\n",
            "0       169.910600       152.271429      151.288225   \n",
            "1       171.439442       145.676188      159.259071   \n",
            "2       174.790711       147.985869      168.755768   \n",
            "3       173.787260       147.399375      158.798216   \n",
            "4       174.244639       155.559719      141.406330   \n",
            "\n",
            "   THUMB_INDEX_Abduction_angle  LABEL  \n",
            "0                    35.147101      1  \n",
            "1                    29.280307      1  \n",
            "2                    35.708565      1  \n",
            "3                    41.738118      1  \n",
            "4                    40.868867      1  \n"
          ]
        }
      ]
    },
    {
      "cell_type": "code",
      "source": [
        "# Check for missing values and handle them\n",
        "if data.isnull().sum().sum() > 0:\n",
        "    print(\"Missing values detected. Filling with mean values...\")\n",
        "    data.fillna(data.mean(), inplace=True)\n",
        "else:\n",
        "    print(\"No missing values detected.\")"
      ],
      "metadata": {
        "colab": {
          "base_uri": "https://localhost:8080/"
        },
        "id": "y3DXdbi5duxi",
        "outputId": "823eb175-80b8-4521-e132-1a7075ddda34"
      },
      "execution_count": 18,
      "outputs": [
        {
          "output_type": "stream",
          "name": "stdout",
          "text": [
            "No missing values detected.\n"
          ]
        }
      ]
    },
    {
      "cell_type": "code",
      "source": [
        "# Separate features and labels\n",
        "if 'LABEL' in data.columns:\n",
        "    features = data.drop(columns=['LABEL'])  # Assuming the 'label' column represents the target variable\n",
        "    labels = data['LABEL']\n",
        "    print(\"Features and labels separated successfully.\")\n",
        "else:\n",
        "    raise KeyError(\"'label' column not found in the dataset. Please ensure the file contains a 'label' column.\")"
      ],
      "metadata": {
        "colab": {
          "base_uri": "https://localhost:8080/"
        },
        "id": "7CYbLuOFdyBb",
        "outputId": "351d989c-63e2-4247-bcaa-92e2eeabba6a"
      },
      "execution_count": 19,
      "outputs": [
        {
          "output_type": "stream",
          "name": "stdout",
          "text": [
            "Features and labels separated successfully.\n"
          ]
        }
      ]
    },
    {
      "cell_type": "code",
      "source": [
        "# Standardize the features\n",
        "scaler = StandardScaler()\n",
        "standardized_features = scaler.fit_transform(features)\n",
        "print(\"Features standardized successfully.\")"
      ],
      "metadata": {
        "colab": {
          "base_uri": "https://localhost:8080/"
        },
        "id": "DTzn6cUmd6sc",
        "outputId": "6da90301-6366-40da-f37b-c7b11d6db3d0"
      },
      "execution_count": 20,
      "outputs": [
        {
          "output_type": "stream",
          "name": "stdout",
          "text": [
            "Features standardized successfully.\n"
          ]
        }
      ]
    },
    {
      "cell_type": "code",
      "source": [
        "# Perform PCA with all 16 components\n",
        "pca = PCA(n_components=16)\n",
        "pca_components = pca.fit_transform(standardized_features)"
      ],
      "metadata": {
        "id": "oOUReVXorpt_"
      },
      "execution_count": 21,
      "outputs": []
    },
    {
      "cell_type": "code",
      "source": [
        "# Explained variance ratio for each component\n",
        "explained_variance_ratio = pca.explained_variance_ratio_\n",
        "print(\"Explained Variance Ratio for each component:\")\n",
        "for i, variance in enumerate(explained_variance_ratio):\n",
        "    print(f\"Component {i + 1}: {variance:.4f} ({variance * 100:.2f}%)\")"
      ],
      "metadata": {
        "colab": {
          "base_uri": "https://localhost:8080/"
        },
        "id": "2RxjMwOVr1VS",
        "outputId": "9b60685e-6837-4267-ff4e-3b1908ff2b28"
      },
      "execution_count": 22,
      "outputs": [
        {
          "output_type": "stream",
          "name": "stdout",
          "text": [
            "Explained Variance Ratio for each component:\n",
            "Component 1: 0.3398 (33.98%)\n",
            "Component 2: 0.1363 (13.63%)\n",
            "Component 3: 0.1276 (12.76%)\n",
            "Component 4: 0.1045 (10.45%)\n",
            "Component 5: 0.0670 (6.70%)\n",
            "Component 6: 0.0463 (4.63%)\n",
            "Component 7: 0.0418 (4.18%)\n",
            "Component 8: 0.0307 (3.07%)\n",
            "Component 9: 0.0287 (2.87%)\n",
            "Component 10: 0.0220 (2.20%)\n",
            "Component 11: 0.0185 (1.85%)\n",
            "Component 12: 0.0155 (1.55%)\n",
            "Component 13: 0.0103 (1.03%)\n",
            "Component 14: 0.0054 (0.54%)\n",
            "Component 15: 0.0036 (0.36%)\n",
            "Component 16: 0.0020 (0.20%)\n"
          ]
        }
      ]
    },
    {
      "cell_type": "code",
      "source": [
        "# Plot cumulative explained variance\n",
        "cumulative_variance = np.cumsum(explained_variance_ratio)\n",
        "plt.figure(figsize=(8, 6))\n",
        "plt.plot(range(1, len(cumulative_variance) + 1), cumulative_variance, marker='o', linestyle='--', color='b')\n",
        "plt.title('Cumulative Explained Variance for PCA')\n",
        "plt.xlabel('Number of Components')\n",
        "plt.ylabel('Cumulative Explained Variance')\n",
        "plt.grid()\n",
        "plt.show()"
      ],
      "metadata": {
        "colab": {
          "base_uri": "https://localhost:8080/",
          "height": 543
        },
        "id": "jLn9YjHLr66_",
        "outputId": "68b2a23f-f0a5-4382-b5ac-cbdf37bff1b3"
      },
      "execution_count": 23,
      "outputs": [
        {
          "output_type": "display_data",
          "data": {
            "text/plain": [
              "<Figure size 800x600 with 1 Axes>"
            ],
            "image/png": "[encoded data removed]"
          },
          "metadata": {}
        }
      ]
    },
    {
      "cell_type": "code",
      "source": [
        "# Save PCA-transformed data for inspection (optional)\n",
        "pca_df = pd.DataFrame(data=pca_components, columns=[f'PC{i + 1}' for i in range(pca_components.shape[1])])\n",
        "pca_df['label'] = labels\n",
        "pca_df.to_csv('PCA_results.csv', index=False)\n",
        "print(\"PCA results saved to 'PCA_results.csv'.\")"
      ],
      "metadata": {
        "colab": {
          "base_uri": "https://localhost:8080/"
        },
        "id": "-2SOlUBrr_Dg",
        "outputId": "166cb34a-ad8e-460c-d920-b3eb5368d2d1"
      },
      "execution_count": 24,
      "outputs": [
        {
          "output_type": "stream",
          "name": "stdout",
          "text": [
            "PCA results saved to 'PCA_results.csv'.\n"
          ]
        }
      ]
    }
  ]
}